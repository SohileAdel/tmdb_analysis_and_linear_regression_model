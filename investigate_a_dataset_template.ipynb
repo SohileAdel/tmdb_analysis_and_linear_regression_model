{
  "cells": [
    {
      "cell_type": "markdown",
      "metadata": {
        "id": "_S2AfB4SWjJR"
      },
      "source": [
        "\n",
        "# Project: TMDB Analysis\n",
        "\n",
        "## Table of Contents\n",
        "<ul>\n",
        "<li><a href=\"#intro\">Introduction</a></li>\n",
        "<li><a href=\"#wrangling\">Data Wrangling</a></li>\n",
        "<li><a href=\"#eda\">Exploratory Data Analysis</a></li>\n",
        "<li><a href=\"#conclusions\">Conclusions</a></li>\n",
        "<li><a href=\"#Linear_Regression_model\">Linear Regression model</a></li>\n",
        "</ul>"
      ]
    },
    {
      "cell_type": "markdown",
      "metadata": {
        "id": "OR-vGxEcWjJV"
      },
      "source": [
        "<a id='intro'></a>\n",
        "## Introduction\n",
        "\n",
        ">In this project, we'll be analyzing data in TMDB, and in particular we'll be interested in finding tends among the relations between different features in movies."
      ]
    },
    {
      "cell_type": "code",
      "execution_count": 1,
      "metadata": {
        "id": "M-SIB-08WjJW"
      },
      "outputs": [],
      "source": [
        "import pandas as pd\n",
        "import numpy as np\n",
        "import matplotlib.pyplot as plt\n",
        "%matplotlib inline\n",
        "import seaborn as sns\n",
        "sns.set()"
      ]
    },
    {
      "cell_type": "markdown",
      "metadata": {
        "id": "52pcji3mWjJY"
      },
      "source": [
        "<a id='wrangling'></a>\n",
        "## Data Wrangling\n",
        "\n",
        "> We need to take a look at our dataset, its data types and check whether it has missing values.\n",
        "\n",
        "### General Properties"
      ]
    },
    {
      "cell_type": "code",
      "execution_count": 2,
      "metadata": {
        "scrolled": false,
        "colab": {
          "base_uri": "https://localhost:8080/",
          "height": 699
        },
        "id": "Lc494MvkWjJY",
        "outputId": "f45fb4db-e6b5-4a81-d98b-ddff3bfc239e"
      },
      "outputs": [
        {
          "output_type": "execute_result",
          "data": {
            "text/plain": [
              "       id    imdb_id  popularity     budget     revenue  \\\n",
              "0  135397  tt0369610   32.985763  150000000  1513528810   \n",
              "1   76341  tt1392190   28.419936  150000000   378436354   \n",
              "2  262500  tt2908446   13.112507  110000000   295238201   \n",
              "3  140607  tt2488496   11.173104  200000000  2068178225   \n",
              "4  168259  tt2820852    9.335014  190000000  1506249360   \n",
              "\n",
              "                 original_title  \\\n",
              "0                Jurassic World   \n",
              "1            Mad Max: Fury Road   \n",
              "2                     Insurgent   \n",
              "3  Star Wars: The Force Awakens   \n",
              "4                     Furious 7   \n",
              "\n",
              "                                                cast  \\\n",
              "0  Chris Pratt|Bryce Dallas Howard|Irrfan Khan|Vi...   \n",
              "1  Tom Hardy|Charlize Theron|Hugh Keays-Byrne|Nic...   \n",
              "2  Shailene Woodley|Theo James|Kate Winslet|Ansel...   \n",
              "3  Harrison Ford|Mark Hamill|Carrie Fisher|Adam D...   \n",
              "4  Vin Diesel|Paul Walker|Jason Statham|Michelle ...   \n",
              "\n",
              "                                            homepage          director  \\\n",
              "0                      http://www.jurassicworld.com/   Colin Trevorrow   \n",
              "1                        http://www.madmaxmovie.com/     George Miller   \n",
              "2     http://www.thedivergentseries.movie/#insurgent  Robert Schwentke   \n",
              "3  http://www.starwars.com/films/star-wars-episod...       J.J. Abrams   \n",
              "4                           http://www.furious7.com/         James Wan   \n",
              "\n",
              "                         tagline  ...  \\\n",
              "0              The park is open.  ...   \n",
              "1             What a Lovely Day.  ...   \n",
              "2     One Choice Can Destroy You  ...   \n",
              "3  Every generation has a story.  ...   \n",
              "4            Vengeance Hits Home  ...   \n",
              "\n",
              "                                            overview runtime  \\\n",
              "0  Twenty-two years after the events of Jurassic ...     124   \n",
              "1  An apocalyptic story set in the furthest reach...     120   \n",
              "2  Beatrice Prior must confront her inner demons ...     119   \n",
              "3  Thirty years after defeating the Galactic Empi...     136   \n",
              "4  Deckard Shaw seeks revenge against Dominic Tor...     137   \n",
              "\n",
              "                                      genres  \\\n",
              "0  Action|Adventure|Science Fiction|Thriller   \n",
              "1  Action|Adventure|Science Fiction|Thriller   \n",
              "2         Adventure|Science Fiction|Thriller   \n",
              "3   Action|Adventure|Science Fiction|Fantasy   \n",
              "4                      Action|Crime|Thriller   \n",
              "\n",
              "                                production_companies release_date vote_count  \\\n",
              "0  Universal Studios|Amblin Entertainment|Legenda...       6/9/15       5562   \n",
              "1  Village Roadshow Pictures|Kennedy Miller Produ...      5/13/15       6185   \n",
              "2  Summit Entertainment|Mandeville Films|Red Wago...      3/18/15       2480   \n",
              "3          Lucasfilm|Truenorth Productions|Bad Robot     12/15/15       5292   \n",
              "4  Universal Pictures|Original Film|Media Rights ...       4/1/15       2947   \n",
              "\n",
              "   vote_average  release_year    budget_adj   revenue_adj  \n",
              "0           6.5          2015  1.379999e+08  1.392446e+09  \n",
              "1           7.1          2015  1.379999e+08  3.481613e+08  \n",
              "2           6.3          2015  1.012000e+08  2.716190e+08  \n",
              "3           7.5          2015  1.839999e+08  1.902723e+09  \n",
              "4           7.3          2015  1.747999e+08  1.385749e+09  \n",
              "\n",
              "[5 rows x 21 columns]"
            ],
            "text/html": [
              "\n",
              "  <div id=\"df-588c04fe-f9d1-4fe9-bb1e-082025a9c6e3\">\n",
              "    <div class=\"colab-df-container\">\n",
              "      <div>\n",
              "<style scoped>\n",
              "    .dataframe tbody tr th:only-of-type {\n",
              "        vertical-align: middle;\n",
              "    }\n",
              "\n",
              "    .dataframe tbody tr th {\n",
              "        vertical-align: top;\n",
              "    }\n",
              "\n",
              "    .dataframe thead th {\n",
              "        text-align: right;\n",
              "    }\n",
              "</style>\n",
              "<table border=\"1\" class=\"dataframe\">\n",
              "  <thead>\n",
              "    <tr style=\"text-align: right;\">\n",
              "      <th></th>\n",
              "      <th>id</th>\n",
              "      <th>imdb_id</th>\n",
              "      <th>popularity</th>\n",
              "      <th>budget</th>\n",
              "      <th>revenue</th>\n",
              "      <th>original_title</th>\n",
              "      <th>cast</th>\n",
              "      <th>homepage</th>\n",
              "      <th>director</th>\n",
              "      <th>tagline</th>\n",
              "      <th>...</th>\n",
              "      <th>overview</th>\n",
              "      <th>runtime</th>\n",
              "      <th>genres</th>\n",
              "      <th>production_companies</th>\n",
              "      <th>release_date</th>\n",
              "      <th>vote_count</th>\n",
              "      <th>vote_average</th>\n",
              "      <th>release_year</th>\n",
              "      <th>budget_adj</th>\n",
              "      <th>revenue_adj</th>\n",
              "    </tr>\n",
              "  </thead>\n",
              "  <tbody>\n",
              "    <tr>\n",
              "      <th>0</th>\n",
              "      <td>135397</td>\n",
              "      <td>tt0369610</td>\n",
              "      <td>32.985763</td>\n",
              "      <td>150000000</td>\n",
              "      <td>1513528810</td>\n",
              "      <td>Jurassic World</td>\n",
              "      <td>Chris Pratt|Bryce Dallas Howard|Irrfan Khan|Vi...</td>\n",
              "      <td>http://www.jurassicworld.com/</td>\n",
              "      <td>Colin Trevorrow</td>\n",
              "      <td>The park is open.</td>\n",
              "      <td>...</td>\n",
              "      <td>Twenty-two years after the events of Jurassic ...</td>\n",
              "      <td>124</td>\n",
              "      <td>Action|Adventure|Science Fiction|Thriller</td>\n",
              "      <td>Universal Studios|Amblin Entertainment|Legenda...</td>\n",
              "      <td>6/9/15</td>\n",
              "      <td>5562</td>\n",
              "      <td>6.5</td>\n",
              "      <td>2015</td>\n",
              "      <td>1.379999e+08</td>\n",
              "      <td>1.392446e+09</td>\n",
              "    </tr>\n",
              "    <tr>\n",
              "      <th>1</th>\n",
              "      <td>76341</td>\n",
              "      <td>tt1392190</td>\n",
              "      <td>28.419936</td>\n",
              "      <td>150000000</td>\n",
              "      <td>378436354</td>\n",
              "      <td>Mad Max: Fury Road</td>\n",
              "      <td>Tom Hardy|Charlize Theron|Hugh Keays-Byrne|Nic...</td>\n",
              "      <td>http://www.madmaxmovie.com/</td>\n",
              "      <td>George Miller</td>\n",
              "      <td>What a Lovely Day.</td>\n",
              "      <td>...</td>\n",
              "      <td>An apocalyptic story set in the furthest reach...</td>\n",
              "      <td>120</td>\n",
              "      <td>Action|Adventure|Science Fiction|Thriller</td>\n",
              "      <td>Village Roadshow Pictures|Kennedy Miller Produ...</td>\n",
              "      <td>5/13/15</td>\n",
              "      <td>6185</td>\n",
              "      <td>7.1</td>\n",
              "      <td>2015</td>\n",
              "      <td>1.379999e+08</td>\n",
              "      <td>3.481613e+08</td>\n",
              "    </tr>\n",
              "    <tr>\n",
              "      <th>2</th>\n",
              "      <td>262500</td>\n",
              "      <td>tt2908446</td>\n",
              "      <td>13.112507</td>\n",
              "      <td>110000000</td>\n",
              "      <td>295238201</td>\n",
              "      <td>Insurgent</td>\n",
              "      <td>Shailene Woodley|Theo James|Kate Winslet|Ansel...</td>\n",
              "      <td>http://www.thedivergentseries.movie/#insurgent</td>\n",
              "      <td>Robert Schwentke</td>\n",
              "      <td>One Choice Can Destroy You</td>\n",
              "      <td>...</td>\n",
              "      <td>Beatrice Prior must confront her inner demons ...</td>\n",
              "      <td>119</td>\n",
              "      <td>Adventure|Science Fiction|Thriller</td>\n",
              "      <td>Summit Entertainment|Mandeville Films|Red Wago...</td>\n",
              "      <td>3/18/15</td>\n",
              "      <td>2480</td>\n",
              "      <td>6.3</td>\n",
              "      <td>2015</td>\n",
              "      <td>1.012000e+08</td>\n",
              "      <td>2.716190e+08</td>\n",
              "    </tr>\n",
              "    <tr>\n",
              "      <th>3</th>\n",
              "      <td>140607</td>\n",
              "      <td>tt2488496</td>\n",
              "      <td>11.173104</td>\n",
              "      <td>200000000</td>\n",
              "      <td>2068178225</td>\n",
              "      <td>Star Wars: The Force Awakens</td>\n",
              "      <td>Harrison Ford|Mark Hamill|Carrie Fisher|Adam D...</td>\n",
              "      <td>http://www.starwars.com/films/star-wars-episod...</td>\n",
              "      <td>J.J. Abrams</td>\n",
              "      <td>Every generation has a story.</td>\n",
              "      <td>...</td>\n",
              "      <td>Thirty years after defeating the Galactic Empi...</td>\n",
              "      <td>136</td>\n",
              "      <td>Action|Adventure|Science Fiction|Fantasy</td>\n",
              "      <td>Lucasfilm|Truenorth Productions|Bad Robot</td>\n",
              "      <td>12/15/15</td>\n",
              "      <td>5292</td>\n",
              "      <td>7.5</td>\n",
              "      <td>2015</td>\n",
              "      <td>1.839999e+08</td>\n",
              "      <td>1.902723e+09</td>\n",
              "    </tr>\n",
              "    <tr>\n",
              "      <th>4</th>\n",
              "      <td>168259</td>\n",
              "      <td>tt2820852</td>\n",
              "      <td>9.335014</td>\n",
              "      <td>190000000</td>\n",
              "      <td>1506249360</td>\n",
              "      <td>Furious 7</td>\n",
              "      <td>Vin Diesel|Paul Walker|Jason Statham|Michelle ...</td>\n",
              "      <td>http://www.furious7.com/</td>\n",
              "      <td>James Wan</td>\n",
              "      <td>Vengeance Hits Home</td>\n",
              "      <td>...</td>\n",
              "      <td>Deckard Shaw seeks revenge against Dominic Tor...</td>\n",
              "      <td>137</td>\n",
              "      <td>Action|Crime|Thriller</td>\n",
              "      <td>Universal Pictures|Original Film|Media Rights ...</td>\n",
              "      <td>4/1/15</td>\n",
              "      <td>2947</td>\n",
              "      <td>7.3</td>\n",
              "      <td>2015</td>\n",
              "      <td>1.747999e+08</td>\n",
              "      <td>1.385749e+09</td>\n",
              "    </tr>\n",
              "  </tbody>\n",
              "</table>\n",
              "<p>5 rows × 21 columns</p>\n",
              "</div>\n",
              "      <button class=\"colab-df-convert\" onclick=\"convertToInteractive('df-588c04fe-f9d1-4fe9-bb1e-082025a9c6e3')\"\n",
              "              title=\"Convert this dataframe to an interactive table.\"\n",
              "              style=\"display:none;\">\n",
              "        \n",
              "  <svg xmlns=\"http://www.w3.org/2000/svg\" height=\"24px\"viewBox=\"0 0 24 24\"\n",
              "       width=\"24px\">\n",
              "    <path d=\"M0 0h24v24H0V0z\" fill=\"none\"/>\n",
              "    <path d=\"M18.56 5.44l.94 2.06.94-2.06 2.06-.94-2.06-.94-.94-2.06-.94 2.06-2.06.94zm-11 1L8.5 8.5l.94-2.06 2.06-.94-2.06-.94L8.5 2.5l-.94 2.06-2.06.94zm10 10l.94 2.06.94-2.06 2.06-.94-2.06-.94-.94-2.06-.94 2.06-2.06.94z\"/><path d=\"M17.41 7.96l-1.37-1.37c-.4-.4-.92-.59-1.43-.59-.52 0-1.04.2-1.43.59L10.3 9.45l-7.72 7.72c-.78.78-.78 2.05 0 2.83L4 21.41c.39.39.9.59 1.41.59.51 0 1.02-.2 1.41-.59l7.78-7.78 2.81-2.81c.8-.78.8-2.07 0-2.86zM5.41 20L4 18.59l7.72-7.72 1.47 1.35L5.41 20z\"/>\n",
              "  </svg>\n",
              "      </button>\n",
              "      \n",
              "  <style>\n",
              "    .colab-df-container {\n",
              "      display:flex;\n",
              "      flex-wrap:wrap;\n",
              "      gap: 12px;\n",
              "    }\n",
              "\n",
              "    .colab-df-convert {\n",
              "      background-color: #E8F0FE;\n",
              "      border: none;\n",
              "      border-radius: 50%;\n",
              "      cursor: pointer;\n",
              "      display: none;\n",
              "      fill: #1967D2;\n",
              "      height: 32px;\n",
              "      padding: 0 0 0 0;\n",
              "      width: 32px;\n",
              "    }\n",
              "\n",
              "    .colab-df-convert:hover {\n",
              "      background-color: #E2EBFA;\n",
              "      box-shadow: 0px 1px 2px rgba(60, 64, 67, 0.3), 0px 1px 3px 1px rgba(60, 64, 67, 0.15);\n",
              "      fill: #174EA6;\n",
              "    }\n",
              "\n",
              "    [theme=dark] .colab-df-convert {\n",
              "      background-color: #3B4455;\n",
              "      fill: #D2E3FC;\n",
              "    }\n",
              "\n",
              "    [theme=dark] .colab-df-convert:hover {\n",
              "      background-color: #434B5C;\n",
              "      box-shadow: 0px 1px 3px 1px rgba(0, 0, 0, 0.15);\n",
              "      filter: drop-shadow(0px 1px 2px rgba(0, 0, 0, 0.3));\n",
              "      fill: #FFFFFF;\n",
              "    }\n",
              "  </style>\n",
              "\n",
              "      <script>\n",
              "        const buttonEl =\n",
              "          document.querySelector('#df-588c04fe-f9d1-4fe9-bb1e-082025a9c6e3 button.colab-df-convert');\n",
              "        buttonEl.style.display =\n",
              "          google.colab.kernel.accessAllowed ? 'block' : 'none';\n",
              "\n",
              "        async function convertToInteractive(key) {\n",
              "          const element = document.querySelector('#df-588c04fe-f9d1-4fe9-bb1e-082025a9c6e3');\n",
              "          const dataTable =\n",
              "            await google.colab.kernel.invokeFunction('convertToInteractive',\n",
              "                                                     [key], {});\n",
              "          if (!dataTable) return;\n",
              "\n",
              "          const docLinkHtml = 'Like what you see? Visit the ' +\n",
              "            '<a target=\"_blank\" href=https://colab.research.google.com/notebooks/data_table.ipynb>data table notebook</a>'\n",
              "            + ' to learn more about interactive tables.';\n",
              "          element.innerHTML = '';\n",
              "          dataTable['output_type'] = 'display_data';\n",
              "          await google.colab.output.renderOutput(dataTable, element);\n",
              "          const docLink = document.createElement('div');\n",
              "          docLink.innerHTML = docLinkHtml;\n",
              "          element.appendChild(docLink);\n",
              "        }\n",
              "      </script>\n",
              "    </div>\n",
              "  </div>\n",
              "  "
            ]
          },
          "metadata": {},
          "execution_count": 2
        }
      ],
      "source": [
        "df=pd.read_csv('tmdb-movies.csv')\n",
        "df.head()"
      ]
    },
    {
      "cell_type": "markdown",
      "metadata": {
        "id": "wgZ-GrY7WjJa"
      },
      "source": [
        "We have 10866 movies with 21 columns"
      ]
    },
    {
      "cell_type": "code",
      "execution_count": 3,
      "metadata": {
        "colab": {
          "base_uri": "https://localhost:8080/"
        },
        "id": "oBlnIE-HWjJb",
        "outputId": "5df40ca5-839f-4ad1-bc93-f8ce6b258b95"
      },
      "outputs": [
        {
          "output_type": "execute_result",
          "data": {
            "text/plain": [
              "(10866, 21)"
            ]
          },
          "metadata": {},
          "execution_count": 3
        }
      ],
      "source": [
        "df.shape"
      ]
    },
    {
      "cell_type": "markdown",
      "metadata": {
        "id": "bcU7T01uWjJb"
      },
      "source": [
        "lets check some statistics"
      ]
    },
    {
      "cell_type": "code",
      "execution_count": 4,
      "metadata": {
        "colab": {
          "base_uri": "https://localhost:8080/",
          "height": 300
        },
        "id": "TCZzzwd0WjJc",
        "outputId": "a77808b8-ba38-4e1b-c44e-8604b66a2ee7"
      },
      "outputs": [
        {
          "output_type": "execute_result",
          "data": {
            "text/plain": [
              "                  id    popularity        budget       revenue       runtime  \\\n",
              "count   10866.000000  10866.000000  1.086600e+04  1.086600e+04  10866.000000   \n",
              "mean    66064.177434      0.646441  1.462570e+07  3.982332e+07    102.070863   \n",
              "std     92130.136561      1.000185  3.091321e+07  1.170035e+08     31.381405   \n",
              "min         5.000000      0.000065  0.000000e+00  0.000000e+00      0.000000   \n",
              "25%     10596.250000      0.207583  0.000000e+00  0.000000e+00     90.000000   \n",
              "50%     20669.000000      0.383856  0.000000e+00  0.000000e+00     99.000000   \n",
              "75%     75610.000000      0.713817  1.500000e+07  2.400000e+07    111.000000   \n",
              "max    417859.000000     32.985763  4.250000e+08  2.781506e+09    900.000000   \n",
              "\n",
              "         vote_count  vote_average  release_year    budget_adj   revenue_adj  \n",
              "count  10866.000000  10866.000000  10866.000000  1.086600e+04  1.086600e+04  \n",
              "mean     217.389748      5.974922   2001.322658  1.755104e+07  5.136436e+07  \n",
              "std      575.619058      0.935142     12.812941  3.430616e+07  1.446325e+08  \n",
              "min       10.000000      1.500000   1960.000000  0.000000e+00  0.000000e+00  \n",
              "25%       17.000000      5.400000   1995.000000  0.000000e+00  0.000000e+00  \n",
              "50%       38.000000      6.000000   2006.000000  0.000000e+00  0.000000e+00  \n",
              "75%      145.750000      6.600000   2011.000000  2.085325e+07  3.369710e+07  \n",
              "max     9767.000000      9.200000   2015.000000  4.250000e+08  2.827124e+09  "
            ],
            "text/html": [
              "\n",
              "  <div id=\"df-ffc03527-b974-4dbd-9086-43ad5f4a66aa\">\n",
              "    <div class=\"colab-df-container\">\n",
              "      <div>\n",
              "<style scoped>\n",
              "    .dataframe tbody tr th:only-of-type {\n",
              "        vertical-align: middle;\n",
              "    }\n",
              "\n",
              "    .dataframe tbody tr th {\n",
              "        vertical-align: top;\n",
              "    }\n",
              "\n",
              "    .dataframe thead th {\n",
              "        text-align: right;\n",
              "    }\n",
              "</style>\n",
              "<table border=\"1\" class=\"dataframe\">\n",
              "  <thead>\n",
              "    <tr style=\"text-align: right;\">\n",
              "      <th></th>\n",
              "      <th>id</th>\n",
              "      <th>popularity</th>\n",
              "      <th>budget</th>\n",
              "      <th>revenue</th>\n",
              "      <th>runtime</th>\n",
              "      <th>vote_count</th>\n",
              "      <th>vote_average</th>\n",
              "      <th>release_year</th>\n",
              "      <th>budget_adj</th>\n",
              "      <th>revenue_adj</th>\n",
              "    </tr>\n",
              "  </thead>\n",
              "  <tbody>\n",
              "    <tr>\n",
              "      <th>count</th>\n",
              "      <td>10866.000000</td>\n",
              "      <td>10866.000000</td>\n",
              "      <td>1.086600e+04</td>\n",
              "      <td>1.086600e+04</td>\n",
              "      <td>10866.000000</td>\n",
              "      <td>10866.000000</td>\n",
              "      <td>10866.000000</td>\n",
              "      <td>10866.000000</td>\n",
              "      <td>1.086600e+04</td>\n",
              "      <td>1.086600e+04</td>\n",
              "    </tr>\n",
              "    <tr>\n",
              "      <th>mean</th>\n",
              "      <td>66064.177434</td>\n",
              "      <td>0.646441</td>\n",
              "      <td>1.462570e+07</td>\n",
              "      <td>3.982332e+07</td>\n",
              "      <td>102.070863</td>\n",
              "      <td>217.389748</td>\n",
              "      <td>5.974922</td>\n",
              "      <td>2001.322658</td>\n",
              "      <td>1.755104e+07</td>\n",
              "      <td>5.136436e+07</td>\n",
              "    </tr>\n",
              "    <tr>\n",
              "      <th>std</th>\n",
              "      <td>92130.136561</td>\n",
              "      <td>1.000185</td>\n",
              "      <td>3.091321e+07</td>\n",
              "      <td>1.170035e+08</td>\n",
              "      <td>31.381405</td>\n",
              "      <td>575.619058</td>\n",
              "      <td>0.935142</td>\n",
              "      <td>12.812941</td>\n",
              "      <td>3.430616e+07</td>\n",
              "      <td>1.446325e+08</td>\n",
              "    </tr>\n",
              "    <tr>\n",
              "      <th>min</th>\n",
              "      <td>5.000000</td>\n",
              "      <td>0.000065</td>\n",
              "      <td>0.000000e+00</td>\n",
              "      <td>0.000000e+00</td>\n",
              "      <td>0.000000</td>\n",
              "      <td>10.000000</td>\n",
              "      <td>1.500000</td>\n",
              "      <td>1960.000000</td>\n",
              "      <td>0.000000e+00</td>\n",
              "      <td>0.000000e+00</td>\n",
              "    </tr>\n",
              "    <tr>\n",
              "      <th>25%</th>\n",
              "      <td>10596.250000</td>\n",
              "      <td>0.207583</td>\n",
              "      <td>0.000000e+00</td>\n",
              "      <td>0.000000e+00</td>\n",
              "      <td>90.000000</td>\n",
              "      <td>17.000000</td>\n",
              "      <td>5.400000</td>\n",
              "      <td>1995.000000</td>\n",
              "      <td>0.000000e+00</td>\n",
              "      <td>0.000000e+00</td>\n",
              "    </tr>\n",
              "    <tr>\n",
              "      <th>50%</th>\n",
              "      <td>20669.000000</td>\n",
              "      <td>0.383856</td>\n",
              "      <td>0.000000e+00</td>\n",
              "      <td>0.000000e+00</td>\n",
              "      <td>99.000000</td>\n",
              "      <td>38.000000</td>\n",
              "      <td>6.000000</td>\n",
              "      <td>2006.000000</td>\n",
              "      <td>0.000000e+00</td>\n",
              "      <td>0.000000e+00</td>\n",
              "    </tr>\n",
              "    <tr>\n",
              "      <th>75%</th>\n",
              "      <td>75610.000000</td>\n",
              "      <td>0.713817</td>\n",
              "      <td>1.500000e+07</td>\n",
              "      <td>2.400000e+07</td>\n",
              "      <td>111.000000</td>\n",
              "      <td>145.750000</td>\n",
              "      <td>6.600000</td>\n",
              "      <td>2011.000000</td>\n",
              "      <td>2.085325e+07</td>\n",
              "      <td>3.369710e+07</td>\n",
              "    </tr>\n",
              "    <tr>\n",
              "      <th>max</th>\n",
              "      <td>417859.000000</td>\n",
              "      <td>32.985763</td>\n",
              "      <td>4.250000e+08</td>\n",
              "      <td>2.781506e+09</td>\n",
              "      <td>900.000000</td>\n",
              "      <td>9767.000000</td>\n",
              "      <td>9.200000</td>\n",
              "      <td>2015.000000</td>\n",
              "      <td>4.250000e+08</td>\n",
              "      <td>2.827124e+09</td>\n",
              "    </tr>\n",
              "  </tbody>\n",
              "</table>\n",
              "</div>\n",
              "      <button class=\"colab-df-convert\" onclick=\"convertToInteractive('df-ffc03527-b974-4dbd-9086-43ad5f4a66aa')\"\n",
              "              title=\"Convert this dataframe to an interactive table.\"\n",
              "              style=\"display:none;\">\n",
              "        \n",
              "  <svg xmlns=\"http://www.w3.org/2000/svg\" height=\"24px\"viewBox=\"0 0 24 24\"\n",
              "       width=\"24px\">\n",
              "    <path d=\"M0 0h24v24H0V0z\" fill=\"none\"/>\n",
              "    <path d=\"M18.56 5.44l.94 2.06.94-2.06 2.06-.94-2.06-.94-.94-2.06-.94 2.06-2.06.94zm-11 1L8.5 8.5l.94-2.06 2.06-.94-2.06-.94L8.5 2.5l-.94 2.06-2.06.94zm10 10l.94 2.06.94-2.06 2.06-.94-2.06-.94-.94-2.06-.94 2.06-2.06.94z\"/><path d=\"M17.41 7.96l-1.37-1.37c-.4-.4-.92-.59-1.43-.59-.52 0-1.04.2-1.43.59L10.3 9.45l-7.72 7.72c-.78.78-.78 2.05 0 2.83L4 21.41c.39.39.9.59 1.41.59.51 0 1.02-.2 1.41-.59l7.78-7.78 2.81-2.81c.8-.78.8-2.07 0-2.86zM5.41 20L4 18.59l7.72-7.72 1.47 1.35L5.41 20z\"/>\n",
              "  </svg>\n",
              "      </button>\n",
              "      \n",
              "  <style>\n",
              "    .colab-df-container {\n",
              "      display:flex;\n",
              "      flex-wrap:wrap;\n",
              "      gap: 12px;\n",
              "    }\n",
              "\n",
              "    .colab-df-convert {\n",
              "      background-color: #E8F0FE;\n",
              "      border: none;\n",
              "      border-radius: 50%;\n",
              "      cursor: pointer;\n",
              "      display: none;\n",
              "      fill: #1967D2;\n",
              "      height: 32px;\n",
              "      padding: 0 0 0 0;\n",
              "      width: 32px;\n",
              "    }\n",
              "\n",
              "    .colab-df-convert:hover {\n",
              "      background-color: #E2EBFA;\n",
              "      box-shadow: 0px 1px 2px rgba(60, 64, 67, 0.3), 0px 1px 3px 1px rgba(60, 64, 67, 0.15);\n",
              "      fill: #174EA6;\n",
              "    }\n",
              "\n",
              "    [theme=dark] .colab-df-convert {\n",
              "      background-color: #3B4455;\n",
              "      fill: #D2E3FC;\n",
              "    }\n",
              "\n",
              "    [theme=dark] .colab-df-convert:hover {\n",
              "      background-color: #434B5C;\n",
              "      box-shadow: 0px 1px 3px 1px rgba(0, 0, 0, 0.15);\n",
              "      filter: drop-shadow(0px 1px 2px rgba(0, 0, 0, 0.3));\n",
              "      fill: #FFFFFF;\n",
              "    }\n",
              "  </style>\n",
              "\n",
              "      <script>\n",
              "        const buttonEl =\n",
              "          document.querySelector('#df-ffc03527-b974-4dbd-9086-43ad5f4a66aa button.colab-df-convert');\n",
              "        buttonEl.style.display =\n",
              "          google.colab.kernel.accessAllowed ? 'block' : 'none';\n",
              "\n",
              "        async function convertToInteractive(key) {\n",
              "          const element = document.querySelector('#df-ffc03527-b974-4dbd-9086-43ad5f4a66aa');\n",
              "          const dataTable =\n",
              "            await google.colab.kernel.invokeFunction('convertToInteractive',\n",
              "                                                     [key], {});\n",
              "          if (!dataTable) return;\n",
              "\n",
              "          const docLinkHtml = 'Like what you see? Visit the ' +\n",
              "            '<a target=\"_blank\" href=https://colab.research.google.com/notebooks/data_table.ipynb>data table notebook</a>'\n",
              "            + ' to learn more about interactive tables.';\n",
              "          element.innerHTML = '';\n",
              "          dataTable['output_type'] = 'display_data';\n",
              "          await google.colab.output.renderOutput(dataTable, element);\n",
              "          const docLink = document.createElement('div');\n",
              "          docLink.innerHTML = docLinkHtml;\n",
              "          element.appendChild(docLink);\n",
              "        }\n",
              "      </script>\n",
              "    </div>\n",
              "  </div>\n",
              "  "
            ]
          },
          "metadata": {},
          "execution_count": 4
        }
      ],
      "source": [
        "df.describe()"
      ]
    },
    {
      "cell_type": "markdown",
      "metadata": {
        "id": "KHg4GwLwWjJc"
      },
      "source": [
        "\n",
        "Looks like the data has missing values in imdb_id, cast, homepage, director, tagline, keywords, overview, genres and production_companies columns.\n"
      ]
    },
    {
      "cell_type": "code",
      "execution_count": 5,
      "metadata": {
        "colab": {
          "base_uri": "https://localhost:8080/"
        },
        "id": "CSzmzPxGWjJd",
        "outputId": "b8583b03-b1fc-4ebf-c9bb-35f4a4144b0b"
      },
      "outputs": [
        {
          "output_type": "stream",
          "name": "stdout",
          "text": [
            "<class 'pandas.core.frame.DataFrame'>\n",
            "RangeIndex: 10866 entries, 0 to 10865\n",
            "Data columns (total 21 columns):\n",
            " #   Column                Non-Null Count  Dtype  \n",
            "---  ------                --------------  -----  \n",
            " 0   id                    10866 non-null  int64  \n",
            " 1   imdb_id               10856 non-null  object \n",
            " 2   popularity            10866 non-null  float64\n",
            " 3   budget                10866 non-null  int64  \n",
            " 4   revenue               10866 non-null  int64  \n",
            " 5   original_title        10866 non-null  object \n",
            " 6   cast                  10790 non-null  object \n",
            " 7   homepage              2936 non-null   object \n",
            " 8   director              10822 non-null  object \n",
            " 9   tagline               8042 non-null   object \n",
            " 10  keywords              9373 non-null   object \n",
            " 11  overview              10862 non-null  object \n",
            " 12  runtime               10866 non-null  int64  \n",
            " 13  genres                10843 non-null  object \n",
            " 14  production_companies  9836 non-null   object \n",
            " 15  release_date          10866 non-null  object \n",
            " 16  vote_count            10866 non-null  int64  \n",
            " 17  vote_average          10866 non-null  float64\n",
            " 18  release_year          10866 non-null  int64  \n",
            " 19  budget_adj            10866 non-null  float64\n",
            " 20  revenue_adj           10866 non-null  float64\n",
            "dtypes: float64(4), int64(6), object(11)\n",
            "memory usage: 1.7+ MB\n"
          ]
        }
      ],
      "source": [
        "df.info()"
      ]
    },
    {
      "cell_type": "markdown",
      "metadata": {
        "id": "om2jWdM8WjJd"
      },
      "source": [
        "Before cleaning we can drop the columns we don't need."
      ]
    },
    {
      "cell_type": "code",
      "execution_count": 6,
      "metadata": {
        "scrolled": false,
        "colab": {
          "base_uri": "https://localhost:8080/",
          "height": 904
        },
        "id": "hkdIYq-8WjJe",
        "outputId": "c4a0365b-5652-4394-e575-770e982d0b7c"
      },
      "outputs": [
        {
          "output_type": "execute_result",
          "data": {
            "text/plain": [
              "       popularity     budget     revenue                original_title  \\\n",
              "0       32.985763  150000000  1513528810                Jurassic World   \n",
              "1       28.419936  150000000   378436354            Mad Max: Fury Road   \n",
              "2       13.112507  110000000   295238201                     Insurgent   \n",
              "3       11.173104  200000000  2068178225  Star Wars: The Force Awakens   \n",
              "4        9.335014  190000000  1506249360                     Furious 7   \n",
              "...           ...        ...         ...                           ...   \n",
              "10861    0.080598          0           0            The Endless Summer   \n",
              "10862    0.065543          0           0                    Grand Prix   \n",
              "10863    0.065141          0           0           Beregis Avtomobilya   \n",
              "10864    0.064317          0           0        What's Up, Tiger Lily?   \n",
              "10865    0.035919      19000           0      Manos: The Hands of Fate   \n",
              "\n",
              "                                                    cast            director  \\\n",
              "0      Chris Pratt|Bryce Dallas Howard|Irrfan Khan|Vi...     Colin Trevorrow   \n",
              "1      Tom Hardy|Charlize Theron|Hugh Keays-Byrne|Nic...       George Miller   \n",
              "2      Shailene Woodley|Theo James|Kate Winslet|Ansel...    Robert Schwentke   \n",
              "3      Harrison Ford|Mark Hamill|Carrie Fisher|Adam D...         J.J. Abrams   \n",
              "4      Vin Diesel|Paul Walker|Jason Statham|Michelle ...           James Wan   \n",
              "...                                                  ...                 ...   \n",
              "10861  Michael Hynson|Robert August|Lord 'Tally Ho' B...         Bruce Brown   \n",
              "10862  James Garner|Eva Marie Saint|Yves Montand|Tosh...  John Frankenheimer   \n",
              "10863  Innokentiy Smoktunovskiy|Oleg Efremov|Georgi Z...      Eldar Ryazanov   \n",
              "10864  Tatsuya Mihashi|Akiko Wakabayashi|Mie Hama|Joh...         Woody Allen   \n",
              "10865  Harold P. Warren|Tom Neyman|John Reynolds|Dian...    Harold P. Warren   \n",
              "\n",
              "                                                keywords  runtime  \\\n",
              "0      monster|dna|tyrannosaurus rex|velociraptor|island      124   \n",
              "1       future|chase|post-apocalyptic|dystopia|australia      120   \n",
              "2      based on novel|revolution|dystopia|sequel|dyst...      119   \n",
              "3                  android|spaceship|jedi|space opera|3d      136   \n",
              "4                    car race|speed|revenge|suspense|car      137   \n",
              "...                                                  ...      ...   \n",
              "10861                           surfer|surfboard|surfing       95   \n",
              "10862                          car race|racing|formula 1      176   \n",
              "10863                           car|trolley|stealing car       94   \n",
              "10864                                              spoof       80   \n",
              "10865                fire|gun|drive|sacrifice|flashlight       74   \n",
              "\n",
              "                                          genres  \\\n",
              "0      Action|Adventure|Science Fiction|Thriller   \n",
              "1      Action|Adventure|Science Fiction|Thriller   \n",
              "2             Adventure|Science Fiction|Thriller   \n",
              "3       Action|Adventure|Science Fiction|Fantasy   \n",
              "4                          Action|Crime|Thriller   \n",
              "...                                          ...   \n",
              "10861                                Documentary   \n",
              "10862                     Action|Adventure|Drama   \n",
              "10863                             Mystery|Comedy   \n",
              "10864                              Action|Comedy   \n",
              "10865                                     Horror   \n",
              "\n",
              "                                    production_companies release_date  \\\n",
              "0      Universal Studios|Amblin Entertainment|Legenda...       6/9/15   \n",
              "1      Village Roadshow Pictures|Kennedy Miller Produ...      5/13/15   \n",
              "2      Summit Entertainment|Mandeville Films|Red Wago...      3/18/15   \n",
              "3              Lucasfilm|Truenorth Productions|Bad Robot     12/15/15   \n",
              "4      Universal Pictures|Original Film|Media Rights ...       4/1/15   \n",
              "...                                                  ...          ...   \n",
              "10861                                  Bruce Brown Films      6/15/66   \n",
              "10862  Cherokee Productions|Joel Productions|Douglas ...     12/21/66   \n",
              "10863                                            Mosfilm       1/1/66   \n",
              "10864                            Benedict Pictures Corp.      11/2/66   \n",
              "10865                                          Norm-Iris     11/15/66   \n",
              "\n",
              "       vote_count  vote_average  release_year    budget_adj   revenue_adj  \n",
              "0            5562           6.5          2015  1.379999e+08  1.392446e+09  \n",
              "1            6185           7.1          2015  1.379999e+08  3.481613e+08  \n",
              "2            2480           6.3          2015  1.012000e+08  2.716190e+08  \n",
              "3            5292           7.5          2015  1.839999e+08  1.902723e+09  \n",
              "4            2947           7.3          2015  1.747999e+08  1.385749e+09  \n",
              "...           ...           ...           ...           ...           ...  \n",
              "10861          11           7.4          1966  0.000000e+00  0.000000e+00  \n",
              "10862          20           5.7          1966  0.000000e+00  0.000000e+00  \n",
              "10863          11           6.5          1966  0.000000e+00  0.000000e+00  \n",
              "10864          22           5.4          1966  0.000000e+00  0.000000e+00  \n",
              "10865          15           1.5          1966  1.276423e+05  0.000000e+00  \n",
              "\n",
              "[10866 rows x 16 columns]"
            ],
            "text/html": [
              "\n",
              "  <div id=\"df-8464d38a-0341-4168-ae8a-b987c32de9a7\">\n",
              "    <div class=\"colab-df-container\">\n",
              "      <div>\n",
              "<style scoped>\n",
              "    .dataframe tbody tr th:only-of-type {\n",
              "        vertical-align: middle;\n",
              "    }\n",
              "\n",
              "    .dataframe tbody tr th {\n",
              "        vertical-align: top;\n",
              "    }\n",
              "\n",
              "    .dataframe thead th {\n",
              "        text-align: right;\n",
              "    }\n",
              "</style>\n",
              "<table border=\"1\" class=\"dataframe\">\n",
              "  <thead>\n",
              "    <tr style=\"text-align: right;\">\n",
              "      <th></th>\n",
              "      <th>popularity</th>\n",
              "      <th>budget</th>\n",
              "      <th>revenue</th>\n",
              "      <th>original_title</th>\n",
              "      <th>cast</th>\n",
              "      <th>director</th>\n",
              "      <th>keywords</th>\n",
              "      <th>runtime</th>\n",
              "      <th>genres</th>\n",
              "      <th>production_companies</th>\n",
              "      <th>release_date</th>\n",
              "      <th>vote_count</th>\n",
              "      <th>vote_average</th>\n",
              "      <th>release_year</th>\n",
              "      <th>budget_adj</th>\n",
              "      <th>revenue_adj</th>\n",
              "    </tr>\n",
              "  </thead>\n",
              "  <tbody>\n",
              "    <tr>\n",
              "      <th>0</th>\n",
              "      <td>32.985763</td>\n",
              "      <td>150000000</td>\n",
              "      <td>1513528810</td>\n",
              "      <td>Jurassic World</td>\n",
              "      <td>Chris Pratt|Bryce Dallas Howard|Irrfan Khan|Vi...</td>\n",
              "      <td>Colin Trevorrow</td>\n",
              "      <td>monster|dna|tyrannosaurus rex|velociraptor|island</td>\n",
              "      <td>124</td>\n",
              "      <td>Action|Adventure|Science Fiction|Thriller</td>\n",
              "      <td>Universal Studios|Amblin Entertainment|Legenda...</td>\n",
              "      <td>6/9/15</td>\n",
              "      <td>5562</td>\n",
              "      <td>6.5</td>\n",
              "      <td>2015</td>\n",
              "      <td>1.379999e+08</td>\n",
              "      <td>1.392446e+09</td>\n",
              "    </tr>\n",
              "    <tr>\n",
              "      <th>1</th>\n",
              "      <td>28.419936</td>\n",
              "      <td>150000000</td>\n",
              "      <td>378436354</td>\n",
              "      <td>Mad Max: Fury Road</td>\n",
              "      <td>Tom Hardy|Charlize Theron|Hugh Keays-Byrne|Nic...</td>\n",
              "      <td>George Miller</td>\n",
              "      <td>future|chase|post-apocalyptic|dystopia|australia</td>\n",
              "      <td>120</td>\n",
              "      <td>Action|Adventure|Science Fiction|Thriller</td>\n",
              "      <td>Village Roadshow Pictures|Kennedy Miller Produ...</td>\n",
              "      <td>5/13/15</td>\n",
              "      <td>6185</td>\n",
              "      <td>7.1</td>\n",
              "      <td>2015</td>\n",
              "      <td>1.379999e+08</td>\n",
              "      <td>3.481613e+08</td>\n",
              "    </tr>\n",
              "    <tr>\n",
              "      <th>2</th>\n",
              "      <td>13.112507</td>\n",
              "      <td>110000000</td>\n",
              "      <td>295238201</td>\n",
              "      <td>Insurgent</td>\n",
              "      <td>Shailene Woodley|Theo James|Kate Winslet|Ansel...</td>\n",
              "      <td>Robert Schwentke</td>\n",
              "      <td>based on novel|revolution|dystopia|sequel|dyst...</td>\n",
              "      <td>119</td>\n",
              "      <td>Adventure|Science Fiction|Thriller</td>\n",
              "      <td>Summit Entertainment|Mandeville Films|Red Wago...</td>\n",
              "      <td>3/18/15</td>\n",
              "      <td>2480</td>\n",
              "      <td>6.3</td>\n",
              "      <td>2015</td>\n",
              "      <td>1.012000e+08</td>\n",
              "      <td>2.716190e+08</td>\n",
              "    </tr>\n",
              "    <tr>\n",
              "      <th>3</th>\n",
              "      <td>11.173104</td>\n",
              "      <td>200000000</td>\n",
              "      <td>2068178225</td>\n",
              "      <td>Star Wars: The Force Awakens</td>\n",
              "      <td>Harrison Ford|Mark Hamill|Carrie Fisher|Adam D...</td>\n",
              "      <td>J.J. Abrams</td>\n",
              "      <td>android|spaceship|jedi|space opera|3d</td>\n",
              "      <td>136</td>\n",
              "      <td>Action|Adventure|Science Fiction|Fantasy</td>\n",
              "      <td>Lucasfilm|Truenorth Productions|Bad Robot</td>\n",
              "      <td>12/15/15</td>\n",
              "      <td>5292</td>\n",
              "      <td>7.5</td>\n",
              "      <td>2015</td>\n",
              "      <td>1.839999e+08</td>\n",
              "      <td>1.902723e+09</td>\n",
              "    </tr>\n",
              "    <tr>\n",
              "      <th>4</th>\n",
              "      <td>9.335014</td>\n",
              "      <td>190000000</td>\n",
              "      <td>1506249360</td>\n",
              "      <td>Furious 7</td>\n",
              "      <td>Vin Diesel|Paul Walker|Jason Statham|Michelle ...</td>\n",
              "      <td>James Wan</td>\n",
              "      <td>car race|speed|revenge|suspense|car</td>\n",
              "      <td>137</td>\n",
              "      <td>Action|Crime|Thriller</td>\n",
              "      <td>Universal Pictures|Original Film|Media Rights ...</td>\n",
              "      <td>4/1/15</td>\n",
              "      <td>2947</td>\n",
              "      <td>7.3</td>\n",
              "      <td>2015</td>\n",
              "      <td>1.747999e+08</td>\n",
              "      <td>1.385749e+09</td>\n",
              "    </tr>\n",
              "    <tr>\n",
              "      <th>...</th>\n",
              "      <td>...</td>\n",
              "      <td>...</td>\n",
              "      <td>...</td>\n",
              "      <td>...</td>\n",
              "      <td>...</td>\n",
              "      <td>...</td>\n",
              "      <td>...</td>\n",
              "      <td>...</td>\n",
              "      <td>...</td>\n",
              "      <td>...</td>\n",
              "      <td>...</td>\n",
              "      <td>...</td>\n",
              "      <td>...</td>\n",
              "      <td>...</td>\n",
              "      <td>...</td>\n",
              "      <td>...</td>\n",
              "    </tr>\n",
              "    <tr>\n",
              "      <th>10861</th>\n",
              "      <td>0.080598</td>\n",
              "      <td>0</td>\n",
              "      <td>0</td>\n",
              "      <td>The Endless Summer</td>\n",
              "      <td>Michael Hynson|Robert August|Lord 'Tally Ho' B...</td>\n",
              "      <td>Bruce Brown</td>\n",
              "      <td>surfer|surfboard|surfing</td>\n",
              "      <td>95</td>\n",
              "      <td>Documentary</td>\n",
              "      <td>Bruce Brown Films</td>\n",
              "      <td>6/15/66</td>\n",
              "      <td>11</td>\n",
              "      <td>7.4</td>\n",
              "      <td>1966</td>\n",
              "      <td>0.000000e+00</td>\n",
              "      <td>0.000000e+00</td>\n",
              "    </tr>\n",
              "    <tr>\n",
              "      <th>10862</th>\n",
              "      <td>0.065543</td>\n",
              "      <td>0</td>\n",
              "      <td>0</td>\n",
              "      <td>Grand Prix</td>\n",
              "      <td>James Garner|Eva Marie Saint|Yves Montand|Tosh...</td>\n",
              "      <td>John Frankenheimer</td>\n",
              "      <td>car race|racing|formula 1</td>\n",
              "      <td>176</td>\n",
              "      <td>Action|Adventure|Drama</td>\n",
              "      <td>Cherokee Productions|Joel Productions|Douglas ...</td>\n",
              "      <td>12/21/66</td>\n",
              "      <td>20</td>\n",
              "      <td>5.7</td>\n",
              "      <td>1966</td>\n",
              "      <td>0.000000e+00</td>\n",
              "      <td>0.000000e+00</td>\n",
              "    </tr>\n",
              "    <tr>\n",
              "      <th>10863</th>\n",
              "      <td>0.065141</td>\n",
              "      <td>0</td>\n",
              "      <td>0</td>\n",
              "      <td>Beregis Avtomobilya</td>\n",
              "      <td>Innokentiy Smoktunovskiy|Oleg Efremov|Georgi Z...</td>\n",
              "      <td>Eldar Ryazanov</td>\n",
              "      <td>car|trolley|stealing car</td>\n",
              "      <td>94</td>\n",
              "      <td>Mystery|Comedy</td>\n",
              "      <td>Mosfilm</td>\n",
              "      <td>1/1/66</td>\n",
              "      <td>11</td>\n",
              "      <td>6.5</td>\n",
              "      <td>1966</td>\n",
              "      <td>0.000000e+00</td>\n",
              "      <td>0.000000e+00</td>\n",
              "    </tr>\n",
              "    <tr>\n",
              "      <th>10864</th>\n",
              "      <td>0.064317</td>\n",
              "      <td>0</td>\n",
              "      <td>0</td>\n",
              "      <td>What's Up, Tiger Lily?</td>\n",
              "      <td>Tatsuya Mihashi|Akiko Wakabayashi|Mie Hama|Joh...</td>\n",
              "      <td>Woody Allen</td>\n",
              "      <td>spoof</td>\n",
              "      <td>80</td>\n",
              "      <td>Action|Comedy</td>\n",
              "      <td>Benedict Pictures Corp.</td>\n",
              "      <td>11/2/66</td>\n",
              "      <td>22</td>\n",
              "      <td>5.4</td>\n",
              "      <td>1966</td>\n",
              "      <td>0.000000e+00</td>\n",
              "      <td>0.000000e+00</td>\n",
              "    </tr>\n",
              "    <tr>\n",
              "      <th>10865</th>\n",
              "      <td>0.035919</td>\n",
              "      <td>19000</td>\n",
              "      <td>0</td>\n",
              "      <td>Manos: The Hands of Fate</td>\n",
              "      <td>Harold P. Warren|Tom Neyman|John Reynolds|Dian...</td>\n",
              "      <td>Harold P. Warren</td>\n",
              "      <td>fire|gun|drive|sacrifice|flashlight</td>\n",
              "      <td>74</td>\n",
              "      <td>Horror</td>\n",
              "      <td>Norm-Iris</td>\n",
              "      <td>11/15/66</td>\n",
              "      <td>15</td>\n",
              "      <td>1.5</td>\n",
              "      <td>1966</td>\n",
              "      <td>1.276423e+05</td>\n",
              "      <td>0.000000e+00</td>\n",
              "    </tr>\n",
              "  </tbody>\n",
              "</table>\n",
              "<p>10866 rows × 16 columns</p>\n",
              "</div>\n",
              "      <button class=\"colab-df-convert\" onclick=\"convertToInteractive('df-8464d38a-0341-4168-ae8a-b987c32de9a7')\"\n",
              "              title=\"Convert this dataframe to an interactive table.\"\n",
              "              style=\"display:none;\">\n",
              "        \n",
              "  <svg xmlns=\"http://www.w3.org/2000/svg\" height=\"24px\"viewBox=\"0 0 24 24\"\n",
              "       width=\"24px\">\n",
              "    <path d=\"M0 0h24v24H0V0z\" fill=\"none\"/>\n",
              "    <path d=\"M18.56 5.44l.94 2.06.94-2.06 2.06-.94-2.06-.94-.94-2.06-.94 2.06-2.06.94zm-11 1L8.5 8.5l.94-2.06 2.06-.94-2.06-.94L8.5 2.5l-.94 2.06-2.06.94zm10 10l.94 2.06.94-2.06 2.06-.94-2.06-.94-.94-2.06-.94 2.06-2.06.94z\"/><path d=\"M17.41 7.96l-1.37-1.37c-.4-.4-.92-.59-1.43-.59-.52 0-1.04.2-1.43.59L10.3 9.45l-7.72 7.72c-.78.78-.78 2.05 0 2.83L4 21.41c.39.39.9.59 1.41.59.51 0 1.02-.2 1.41-.59l7.78-7.78 2.81-2.81c.8-.78.8-2.07 0-2.86zM5.41 20L4 18.59l7.72-7.72 1.47 1.35L5.41 20z\"/>\n",
              "  </svg>\n",
              "      </button>\n",
              "      \n",
              "  <style>\n",
              "    .colab-df-container {\n",
              "      display:flex;\n",
              "      flex-wrap:wrap;\n",
              "      gap: 12px;\n",
              "    }\n",
              "\n",
              "    .colab-df-convert {\n",
              "      background-color: #E8F0FE;\n",
              "      border: none;\n",
              "      border-radius: 50%;\n",
              "      cursor: pointer;\n",
              "      display: none;\n",
              "      fill: #1967D2;\n",
              "      height: 32px;\n",
              "      padding: 0 0 0 0;\n",
              "      width: 32px;\n",
              "    }\n",
              "\n",
              "    .colab-df-convert:hover {\n",
              "      background-color: #E2EBFA;\n",
              "      box-shadow: 0px 1px 2px rgba(60, 64, 67, 0.3), 0px 1px 3px 1px rgba(60, 64, 67, 0.15);\n",
              "      fill: #174EA6;\n",
              "    }\n",
              "\n",
              "    [theme=dark] .colab-df-convert {\n",
              "      background-color: #3B4455;\n",
              "      fill: #D2E3FC;\n",
              "    }\n",
              "\n",
              "    [theme=dark] .colab-df-convert:hover {\n",
              "      background-color: #434B5C;\n",
              "      box-shadow: 0px 1px 3px 1px rgba(0, 0, 0, 0.15);\n",
              "      filter: drop-shadow(0px 1px 2px rgba(0, 0, 0, 0.3));\n",
              "      fill: #FFFFFF;\n",
              "    }\n",
              "  </style>\n",
              "\n",
              "      <script>\n",
              "        const buttonEl =\n",
              "          document.querySelector('#df-8464d38a-0341-4168-ae8a-b987c32de9a7 button.colab-df-convert');\n",
              "        buttonEl.style.display =\n",
              "          google.colab.kernel.accessAllowed ? 'block' : 'none';\n",
              "\n",
              "        async function convertToInteractive(key) {\n",
              "          const element = document.querySelector('#df-8464d38a-0341-4168-ae8a-b987c32de9a7');\n",
              "          const dataTable =\n",
              "            await google.colab.kernel.invokeFunction('convertToInteractive',\n",
              "                                                     [key], {});\n",
              "          if (!dataTable) return;\n",
              "\n",
              "          const docLinkHtml = 'Like what you see? Visit the ' +\n",
              "            '<a target=\"_blank\" href=https://colab.research.google.com/notebooks/data_table.ipynb>data table notebook</a>'\n",
              "            + ' to learn more about interactive tables.';\n",
              "          element.innerHTML = '';\n",
              "          dataTable['output_type'] = 'display_data';\n",
              "          await google.colab.output.renderOutput(dataTable, element);\n",
              "          const docLink = document.createElement('div');\n",
              "          docLink.innerHTML = docLinkHtml;\n",
              "          element.appendChild(docLink);\n",
              "        }\n",
              "      </script>\n",
              "    </div>\n",
              "  </div>\n",
              "  "
            ]
          },
          "metadata": {},
          "execution_count": 6
        }
      ],
      "source": [
        "df.drop(columns=['id','imdb_id','homepage','tagline','overview'], inplace=True)\n",
        "df"
      ]
    },
    {
      "cell_type": "markdown",
      "metadata": {
        "id": "dOG3AnJcWjJe"
      },
      "source": [
        "Now the data has missing values in director, keywords, genres and production_companies columns."
      ]
    },
    {
      "cell_type": "code",
      "execution_count": 7,
      "metadata": {
        "colab": {
          "base_uri": "https://localhost:8080/"
        },
        "id": "s24p5mk_WjJf",
        "outputId": "b494a3c7-6b50-4a4d-815a-9332ba7584ed"
      },
      "outputs": [
        {
          "output_type": "stream",
          "name": "stdout",
          "text": [
            "<class 'pandas.core.frame.DataFrame'>\n",
            "RangeIndex: 10866 entries, 0 to 10865\n",
            "Data columns (total 16 columns):\n",
            " #   Column                Non-Null Count  Dtype  \n",
            "---  ------                --------------  -----  \n",
            " 0   popularity            10866 non-null  float64\n",
            " 1   budget                10866 non-null  int64  \n",
            " 2   revenue               10866 non-null  int64  \n",
            " 3   original_title        10866 non-null  object \n",
            " 4   cast                  10790 non-null  object \n",
            " 5   director              10822 non-null  object \n",
            " 6   keywords              9373 non-null   object \n",
            " 7   runtime               10866 non-null  int64  \n",
            " 8   genres                10843 non-null  object \n",
            " 9   production_companies  9836 non-null   object \n",
            " 10  release_date          10866 non-null  object \n",
            " 11  vote_count            10866 non-null  int64  \n",
            " 12  vote_average          10866 non-null  float64\n",
            " 13  release_year          10866 non-null  int64  \n",
            " 14  budget_adj            10866 non-null  float64\n",
            " 15  revenue_adj           10866 non-null  float64\n",
            "dtypes: float64(4), int64(5), object(7)\n",
            "memory usage: 1.3+ MB\n"
          ]
        }
      ],
      "source": [
        "df.info()"
      ]
    },
    {
      "cell_type": "markdown",
      "metadata": {
        "id": "-6aUEHfQWjJf"
      },
      "source": [
        "Statistics after dropping."
      ]
    },
    {
      "cell_type": "code",
      "execution_count": 8,
      "metadata": {
        "colab": {
          "base_uri": "https://localhost:8080/",
          "height": 300
        },
        "id": "VrJmN180WjJg",
        "outputId": "22939d95-f344-4942-e530-5fac1bea501a"
      },
      "outputs": [
        {
          "output_type": "execute_result",
          "data": {
            "text/plain": [
              "         popularity        budget       revenue       runtime    vote_count  \\\n",
              "count  10866.000000  1.086600e+04  1.086600e+04  10866.000000  10866.000000   \n",
              "mean       0.646441  1.462570e+07  3.982332e+07    102.070863    217.389748   \n",
              "std        1.000185  3.091321e+07  1.170035e+08     31.381405    575.619058   \n",
              "min        0.000065  0.000000e+00  0.000000e+00      0.000000     10.000000   \n",
              "25%        0.207583  0.000000e+00  0.000000e+00     90.000000     17.000000   \n",
              "50%        0.383856  0.000000e+00  0.000000e+00     99.000000     38.000000   \n",
              "75%        0.713817  1.500000e+07  2.400000e+07    111.000000    145.750000   \n",
              "max       32.985763  4.250000e+08  2.781506e+09    900.000000   9767.000000   \n",
              "\n",
              "       vote_average  release_year    budget_adj   revenue_adj  \n",
              "count  10866.000000  10866.000000  1.086600e+04  1.086600e+04  \n",
              "mean       5.974922   2001.322658  1.755104e+07  5.136436e+07  \n",
              "std        0.935142     12.812941  3.430616e+07  1.446325e+08  \n",
              "min        1.500000   1960.000000  0.000000e+00  0.000000e+00  \n",
              "25%        5.400000   1995.000000  0.000000e+00  0.000000e+00  \n",
              "50%        6.000000   2006.000000  0.000000e+00  0.000000e+00  \n",
              "75%        6.600000   2011.000000  2.085325e+07  3.369710e+07  \n",
              "max        9.200000   2015.000000  4.250000e+08  2.827124e+09  "
            ],
            "text/html": [
              "\n",
              "  <div id=\"df-58c15c79-5f0e-445f-9aa3-07f885eb647d\">\n",
              "    <div class=\"colab-df-container\">\n",
              "      <div>\n",
              "<style scoped>\n",
              "    .dataframe tbody tr th:only-of-type {\n",
              "        vertical-align: middle;\n",
              "    }\n",
              "\n",
              "    .dataframe tbody tr th {\n",
              "        vertical-align: top;\n",
              "    }\n",
              "\n",
              "    .dataframe thead th {\n",
              "        text-align: right;\n",
              "    }\n",
              "</style>\n",
              "<table border=\"1\" class=\"dataframe\">\n",
              "  <thead>\n",
              "    <tr style=\"text-align: right;\">\n",
              "      <th></th>\n",
              "      <th>popularity</th>\n",
              "      <th>budget</th>\n",
              "      <th>revenue</th>\n",
              "      <th>runtime</th>\n",
              "      <th>vote_count</th>\n",
              "      <th>vote_average</th>\n",
              "      <th>release_year</th>\n",
              "      <th>budget_adj</th>\n",
              "      <th>revenue_adj</th>\n",
              "    </tr>\n",
              "  </thead>\n",
              "  <tbody>\n",
              "    <tr>\n",
              "      <th>count</th>\n",
              "      <td>10866.000000</td>\n",
              "      <td>1.086600e+04</td>\n",
              "      <td>1.086600e+04</td>\n",
              "      <td>10866.000000</td>\n",
              "      <td>10866.000000</td>\n",
              "      <td>10866.000000</td>\n",
              "      <td>10866.000000</td>\n",
              "      <td>1.086600e+04</td>\n",
              "      <td>1.086600e+04</td>\n",
              "    </tr>\n",
              "    <tr>\n",
              "      <th>mean</th>\n",
              "      <td>0.646441</td>\n",
              "      <td>1.462570e+07</td>\n",
              "      <td>3.982332e+07</td>\n",
              "      <td>102.070863</td>\n",
              "      <td>217.389748</td>\n",
              "      <td>5.974922</td>\n",
              "      <td>2001.322658</td>\n",
              "      <td>1.755104e+07</td>\n",
              "      <td>5.136436e+07</td>\n",
              "    </tr>\n",
              "    <tr>\n",
              "      <th>std</th>\n",
              "      <td>1.000185</td>\n",
              "      <td>3.091321e+07</td>\n",
              "      <td>1.170035e+08</td>\n",
              "      <td>31.381405</td>\n",
              "      <td>575.619058</td>\n",
              "      <td>0.935142</td>\n",
              "      <td>12.812941</td>\n",
              "      <td>3.430616e+07</td>\n",
              "      <td>1.446325e+08</td>\n",
              "    </tr>\n",
              "    <tr>\n",
              "      <th>min</th>\n",
              "      <td>0.000065</td>\n",
              "      <td>0.000000e+00</td>\n",
              "      <td>0.000000e+00</td>\n",
              "      <td>0.000000</td>\n",
              "      <td>10.000000</td>\n",
              "      <td>1.500000</td>\n",
              "      <td>1960.000000</td>\n",
              "      <td>0.000000e+00</td>\n",
              "      <td>0.000000e+00</td>\n",
              "    </tr>\n",
              "    <tr>\n",
              "      <th>25%</th>\n",
              "      <td>0.207583</td>\n",
              "      <td>0.000000e+00</td>\n",
              "      <td>0.000000e+00</td>\n",
              "      <td>90.000000</td>\n",
              "      <td>17.000000</td>\n",
              "      <td>5.400000</td>\n",
              "      <td>1995.000000</td>\n",
              "      <td>0.000000e+00</td>\n",
              "      <td>0.000000e+00</td>\n",
              "    </tr>\n",
              "    <tr>\n",
              "      <th>50%</th>\n",
              "      <td>0.383856</td>\n",
              "      <td>0.000000e+00</td>\n",
              "      <td>0.000000e+00</td>\n",
              "      <td>99.000000</td>\n",
              "      <td>38.000000</td>\n",
              "      <td>6.000000</td>\n",
              "      <td>2006.000000</td>\n",
              "      <td>0.000000e+00</td>\n",
              "      <td>0.000000e+00</td>\n",
              "    </tr>\n",
              "    <tr>\n",
              "      <th>75%</th>\n",
              "      <td>0.713817</td>\n",
              "      <td>1.500000e+07</td>\n",
              "      <td>2.400000e+07</td>\n",
              "      <td>111.000000</td>\n",
              "      <td>145.750000</td>\n",
              "      <td>6.600000</td>\n",
              "      <td>2011.000000</td>\n",
              "      <td>2.085325e+07</td>\n",
              "      <td>3.369710e+07</td>\n",
              "    </tr>\n",
              "    <tr>\n",
              "      <th>max</th>\n",
              "      <td>32.985763</td>\n",
              "      <td>4.250000e+08</td>\n",
              "      <td>2.781506e+09</td>\n",
              "      <td>900.000000</td>\n",
              "      <td>9767.000000</td>\n",
              "      <td>9.200000</td>\n",
              "      <td>2015.000000</td>\n",
              "      <td>4.250000e+08</td>\n",
              "      <td>2.827124e+09</td>\n",
              "    </tr>\n",
              "  </tbody>\n",
              "</table>\n",
              "</div>\n",
              "      <button class=\"colab-df-convert\" onclick=\"convertToInteractive('df-58c15c79-5f0e-445f-9aa3-07f885eb647d')\"\n",
              "              title=\"Convert this dataframe to an interactive table.\"\n",
              "              style=\"display:none;\">\n",
              "        \n",
              "  <svg xmlns=\"http://www.w3.org/2000/svg\" height=\"24px\"viewBox=\"0 0 24 24\"\n",
              "       width=\"24px\">\n",
              "    <path d=\"M0 0h24v24H0V0z\" fill=\"none\"/>\n",
              "    <path d=\"M18.56 5.44l.94 2.06.94-2.06 2.06-.94-2.06-.94-.94-2.06-.94 2.06-2.06.94zm-11 1L8.5 8.5l.94-2.06 2.06-.94-2.06-.94L8.5 2.5l-.94 2.06-2.06.94zm10 10l.94 2.06.94-2.06 2.06-.94-2.06-.94-.94-2.06-.94 2.06-2.06.94z\"/><path d=\"M17.41 7.96l-1.37-1.37c-.4-.4-.92-.59-1.43-.59-.52 0-1.04.2-1.43.59L10.3 9.45l-7.72 7.72c-.78.78-.78 2.05 0 2.83L4 21.41c.39.39.9.59 1.41.59.51 0 1.02-.2 1.41-.59l7.78-7.78 2.81-2.81c.8-.78.8-2.07 0-2.86zM5.41 20L4 18.59l7.72-7.72 1.47 1.35L5.41 20z\"/>\n",
              "  </svg>\n",
              "      </button>\n",
              "      \n",
              "  <style>\n",
              "    .colab-df-container {\n",
              "      display:flex;\n",
              "      flex-wrap:wrap;\n",
              "      gap: 12px;\n",
              "    }\n",
              "\n",
              "    .colab-df-convert {\n",
              "      background-color: #E8F0FE;\n",
              "      border: none;\n",
              "      border-radius: 50%;\n",
              "      cursor: pointer;\n",
              "      display: none;\n",
              "      fill: #1967D2;\n",
              "      height: 32px;\n",
              "      padding: 0 0 0 0;\n",
              "      width: 32px;\n",
              "    }\n",
              "\n",
              "    .colab-df-convert:hover {\n",
              "      background-color: #E2EBFA;\n",
              "      box-shadow: 0px 1px 2px rgba(60, 64, 67, 0.3), 0px 1px 3px 1px rgba(60, 64, 67, 0.15);\n",
              "      fill: #174EA6;\n",
              "    }\n",
              "\n",
              "    [theme=dark] .colab-df-convert {\n",
              "      background-color: #3B4455;\n",
              "      fill: #D2E3FC;\n",
              "    }\n",
              "\n",
              "    [theme=dark] .colab-df-convert:hover {\n",
              "      background-color: #434B5C;\n",
              "      box-shadow: 0px 1px 3px 1px rgba(0, 0, 0, 0.15);\n",
              "      filter: drop-shadow(0px 1px 2px rgba(0, 0, 0, 0.3));\n",
              "      fill: #FFFFFF;\n",
              "    }\n",
              "  </style>\n",
              "\n",
              "      <script>\n",
              "        const buttonEl =\n",
              "          document.querySelector('#df-58c15c79-5f0e-445f-9aa3-07f885eb647d button.colab-df-convert');\n",
              "        buttonEl.style.display =\n",
              "          google.colab.kernel.accessAllowed ? 'block' : 'none';\n",
              "\n",
              "        async function convertToInteractive(key) {\n",
              "          const element = document.querySelector('#df-58c15c79-5f0e-445f-9aa3-07f885eb647d');\n",
              "          const dataTable =\n",
              "            await google.colab.kernel.invokeFunction('convertToInteractive',\n",
              "                                                     [key], {});\n",
              "          if (!dataTable) return;\n",
              "\n",
              "          const docLinkHtml = 'Like what you see? Visit the ' +\n",
              "            '<a target=\"_blank\" href=https://colab.research.google.com/notebooks/data_table.ipynb>data table notebook</a>'\n",
              "            + ' to learn more about interactive tables.';\n",
              "          element.innerHTML = '';\n",
              "          dataTable['output_type'] = 'display_data';\n",
              "          await google.colab.output.renderOutput(dataTable, element);\n",
              "          const docLink = document.createElement('div');\n",
              "          docLink.innerHTML = docLinkHtml;\n",
              "          element.appendChild(docLink);\n",
              "        }\n",
              "      </script>\n",
              "    </div>\n",
              "  </div>\n",
              "  "
            ]
          },
          "metadata": {},
          "execution_count": 8
        }
      ],
      "source": [
        "df.describe()"
      ]
    },
    {
      "cell_type": "code",
      "execution_count": 9,
      "metadata": {
        "colab": {
          "base_uri": "https://localhost:8080/",
          "height": 623
        },
        "id": "2mVqSc8sWjJg",
        "outputId": "fee0ee17-de91-4731-cbb5-d56c72207b40"
      },
      "outputs": [
        {
          "output_type": "display_data",
          "data": {
            "text/plain": [
              "<Figure size 1080x720 with 9 Axes>"
            ],
            "image/png": "[encoded data removed]"
          },
          "metadata": {}
        }
      ],
      "source": [
        "df.hist(figsize=(15,10));"
      ]
    },
    {
      "cell_type": "code",
      "execution_count": 10,
      "metadata": {
        "colab": {
          "base_uri": "https://localhost:8080/",
          "height": 332
        },
        "id": "5NLLnSvmWjJh",
        "outputId": "19917b64-ad04-452d-98fb-3101a0bbe681"
      },
      "outputs": [
        {
          "output_type": "execute_result",
          "data": {
            "text/plain": [
              "              popularity    budget   revenue   runtime  vote_count  \\\n",
              "popularity      1.000000  0.545472  0.663358  0.139033    0.800828   \n",
              "budget          0.545472  1.000000  0.734901  0.191283    0.632702   \n",
              "revenue         0.663358  0.734901  1.000000  0.162838    0.791175   \n",
              "runtime         0.139033  0.191283  0.162838  1.000000    0.163278   \n",
              "vote_count      0.800828  0.632702  0.791175  0.163278    1.000000   \n",
              "vote_average    0.209511  0.081014  0.172564  0.156835    0.253823   \n",
              "release_year    0.089801  0.115931  0.057048 -0.117204    0.107948   \n",
              "budget_adj      0.513550  0.968963  0.706427  0.221114    0.587051   \n",
              "revenue_adj     0.609083  0.622505  0.919110  0.175676    0.707942   \n",
              "\n",
              "              vote_average  release_year  budget_adj  revenue_adj  \n",
              "popularity        0.209511      0.089801    0.513550     0.609083  \n",
              "budget            0.081014      0.115931    0.968963     0.622505  \n",
              "revenue           0.172564      0.057048    0.706427     0.919110  \n",
              "runtime           0.156835     -0.117204    0.221114     0.175676  \n",
              "vote_count        0.253823      0.107948    0.587051     0.707942  \n",
              "vote_average      1.000000     -0.117632    0.093039     0.193085  \n",
              "release_year     -0.117632      1.000000    0.016793    -0.066256  \n",
              "budget_adj        0.093039      0.016793    1.000000     0.646607  \n",
              "revenue_adj       0.193085     -0.066256    0.646607     1.000000  "
            ],
            "text/html": [
              "\n",
              "  <div id=\"df-7755685e-467a-4082-a7d9-b54c4093acd2\">\n",
              "    <div class=\"colab-df-container\">\n",
              "      <div>\n",
              "<style scoped>\n",
              "    .dataframe tbody tr th:only-of-type {\n",
              "        vertical-align: middle;\n",
              "    }\n",
              "\n",
              "    .dataframe tbody tr th {\n",
              "        vertical-align: top;\n",
              "    }\n",
              "\n",
              "    .dataframe thead th {\n",
              "        text-align: right;\n",
              "    }\n",
              "</style>\n",
              "<table border=\"1\" class=\"dataframe\">\n",
              "  <thead>\n",
              "    <tr style=\"text-align: right;\">\n",
              "      <th></th>\n",
              "      <th>popularity</th>\n",
              "      <th>budget</th>\n",
              "      <th>revenue</th>\n",
              "      <th>runtime</th>\n",
              "      <th>vote_count</th>\n",
              "      <th>vote_average</th>\n",
              "      <th>release_year</th>\n",
              "      <th>budget_adj</th>\n",
              "      <th>revenue_adj</th>\n",
              "    </tr>\n",
              "  </thead>\n",
              "  <tbody>\n",
              "    <tr>\n",
              "      <th>popularity</th>\n",
              "      <td>1.000000</td>\n",
              "      <td>0.545472</td>\n",
              "      <td>0.663358</td>\n",
              "      <td>0.139033</td>\n",
              "      <td>0.800828</td>\n",
              "      <td>0.209511</td>\n",
              "      <td>0.089801</td>\n",
              "      <td>0.513550</td>\n",
              "      <td>0.609083</td>\n",
              "    </tr>\n",
              "    <tr>\n",
              "      <th>budget</th>\n",
              "      <td>0.545472</td>\n",
              "      <td>1.000000</td>\n",
              "      <td>0.734901</td>\n",
              "      <td>0.191283</td>\n",
              "      <td>0.632702</td>\n",
              "      <td>0.081014</td>\n",
              "      <td>0.115931</td>\n",
              "      <td>0.968963</td>\n",
              "      <td>0.622505</td>\n",
              "    </tr>\n",
              "    <tr>\n",
              "      <th>revenue</th>\n",
              "      <td>0.663358</td>\n",
              "      <td>0.734901</td>\n",
              "      <td>1.000000</td>\n",
              "      <td>0.162838</td>\n",
              "      <td>0.791175</td>\n",
              "      <td>0.172564</td>\n",
              "      <td>0.057048</td>\n",
              "      <td>0.706427</td>\n",
              "      <td>0.919110</td>\n",
              "    </tr>\n",
              "    <tr>\n",
              "      <th>runtime</th>\n",
              "      <td>0.139033</td>\n",
              "      <td>0.191283</td>\n",
              "      <td>0.162838</td>\n",
              "      <td>1.000000</td>\n",
              "      <td>0.163278</td>\n",
              "      <td>0.156835</td>\n",
              "      <td>-0.117204</td>\n",
              "      <td>0.221114</td>\n",
              "      <td>0.175676</td>\n",
              "    </tr>\n",
              "    <tr>\n",
              "      <th>vote_count</th>\n",
              "      <td>0.800828</td>\n",
              "      <td>0.632702</td>\n",
              "      <td>0.791175</td>\n",
              "      <td>0.163278</td>\n",
              "      <td>1.000000</td>\n",
              "      <td>0.253823</td>\n",
              "      <td>0.107948</td>\n",
              "      <td>0.587051</td>\n",
              "      <td>0.707942</td>\n",
              "    </tr>\n",
              "    <tr>\n",
              "      <th>vote_average</th>\n",
              "      <td>0.209511</td>\n",
              "      <td>0.081014</td>\n",
              "      <td>0.172564</td>\n",
              "      <td>0.156835</td>\n",
              "      <td>0.253823</td>\n",
              "      <td>1.000000</td>\n",
              "      <td>-0.117632</td>\n",
              "      <td>0.093039</td>\n",
              "      <td>0.193085</td>\n",
              "    </tr>\n",
              "    <tr>\n",
              "      <th>release_year</th>\n",
              "      <td>0.089801</td>\n",
              "      <td>0.115931</td>\n",
              "      <td>0.057048</td>\n",
              "      <td>-0.117204</td>\n",
              "      <td>0.107948</td>\n",
              "      <td>-0.117632</td>\n",
              "      <td>1.000000</td>\n",
              "      <td>0.016793</td>\n",
              "      <td>-0.066256</td>\n",
              "    </tr>\n",
              "    <tr>\n",
              "      <th>budget_adj</th>\n",
              "      <td>0.513550</td>\n",
              "      <td>0.968963</td>\n",
              "      <td>0.706427</td>\n",
              "      <td>0.221114</td>\n",
              "      <td>0.587051</td>\n",
              "      <td>0.093039</td>\n",
              "      <td>0.016793</td>\n",
              "      <td>1.000000</td>\n",
              "      <td>0.646607</td>\n",
              "    </tr>\n",
              "    <tr>\n",
              "      <th>revenue_adj</th>\n",
              "      <td>0.609083</td>\n",
              "      <td>0.622505</td>\n",
              "      <td>0.919110</td>\n",
              "      <td>0.175676</td>\n",
              "      <td>0.707942</td>\n",
              "      <td>0.193085</td>\n",
              "      <td>-0.066256</td>\n",
              "      <td>0.646607</td>\n",
              "      <td>1.000000</td>\n",
              "    </tr>\n",
              "  </tbody>\n",
              "</table>\n",
              "</div>\n",
              "      <button class=\"colab-df-convert\" onclick=\"convertToInteractive('df-7755685e-467a-4082-a7d9-b54c4093acd2')\"\n",
              "              title=\"Convert this dataframe to an interactive table.\"\n",
              "              style=\"display:none;\">\n",
              "        \n",
              "  <svg xmlns=\"http://www.w3.org/2000/svg\" height=\"24px\"viewBox=\"0 0 24 24\"\n",
              "       width=\"24px\">\n",
              "    <path d=\"M0 0h24v24H0V0z\" fill=\"none\"/>\n",
              "    <path d=\"M18.56 5.44l.94 2.06.94-2.06 2.06-.94-2.06-.94-.94-2.06-.94 2.06-2.06.94zm-11 1L8.5 8.5l.94-2.06 2.06-.94-2.06-.94L8.5 2.5l-.94 2.06-2.06.94zm10 10l.94 2.06.94-2.06 2.06-.94-2.06-.94-.94-2.06-.94 2.06-2.06.94z\"/><path d=\"M17.41 7.96l-1.37-1.37c-.4-.4-.92-.59-1.43-.59-.52 0-1.04.2-1.43.59L10.3 9.45l-7.72 7.72c-.78.78-.78 2.05 0 2.83L4 21.41c.39.39.9.59 1.41.59.51 0 1.02-.2 1.41-.59l7.78-7.78 2.81-2.81c.8-.78.8-2.07 0-2.86zM5.41 20L4 18.59l7.72-7.72 1.47 1.35L5.41 20z\"/>\n",
              "  </svg>\n",
              "      </button>\n",
              "      \n",
              "  <style>\n",
              "    .colab-df-container {\n",
              "      display:flex;\n",
              "      flex-wrap:wrap;\n",
              "      gap: 12px;\n",
              "    }\n",
              "\n",
              "    .colab-df-convert {\n",
              "      background-color: #E8F0FE;\n",
              "      border: none;\n",
              "      border-radius: 50%;\n",
              "      cursor: pointer;\n",
              "      display: none;\n",
              "      fill: #1967D2;\n",
              "      height: 32px;\n",
              "      padding: 0 0 0 0;\n",
              "      width: 32px;\n",
              "    }\n",
              "\n",
              "    .colab-df-convert:hover {\n",
              "      background-color: #E2EBFA;\n",
              "      box-shadow: 0px 1px 2px rgba(60, 64, 67, 0.3), 0px 1px 3px 1px rgba(60, 64, 67, 0.15);\n",
              "      fill: #174EA6;\n",
              "    }\n",
              "\n",
              "    [theme=dark] .colab-df-convert {\n",
              "      background-color: #3B4455;\n",
              "      fill: #D2E3FC;\n",
              "    }\n",
              "\n",
              "    [theme=dark] .colab-df-convert:hover {\n",
              "      background-color: #434B5C;\n",
              "      box-shadow: 0px 1px 3px 1px rgba(0, 0, 0, 0.15);\n",
              "      filter: drop-shadow(0px 1px 2px rgba(0, 0, 0, 0.3));\n",
              "      fill: #FFFFFF;\n",
              "    }\n",
              "  </style>\n",
              "\n",
              "      <script>\n",
              "        const buttonEl =\n",
              "          document.querySelector('#df-7755685e-467a-4082-a7d9-b54c4093acd2 button.colab-df-convert');\n",
              "        buttonEl.style.display =\n",
              "          google.colab.kernel.accessAllowed ? 'block' : 'none';\n",
              "\n",
              "        async function convertToInteractive(key) {\n",
              "          const element = document.querySelector('#df-7755685e-467a-4082-a7d9-b54c4093acd2');\n",
              "          const dataTable =\n",
              "            await google.colab.kernel.invokeFunction('convertToInteractive',\n",
              "                                                     [key], {});\n",
              "          if (!dataTable) return;\n",
              "\n",
              "          const docLinkHtml = 'Like what you see? Visit the ' +\n",
              "            '<a target=\"_blank\" href=https://colab.research.google.com/notebooks/data_table.ipynb>data table notebook</a>'\n",
              "            + ' to learn more about interactive tables.';\n",
              "          element.innerHTML = '';\n",
              "          dataTable['output_type'] = 'display_data';\n",
              "          await google.colab.output.renderOutput(dataTable, element);\n",
              "          const docLink = document.createElement('div');\n",
              "          docLink.innerHTML = docLinkHtml;\n",
              "          element.appendChild(docLink);\n",
              "        }\n",
              "      </script>\n",
              "    </div>\n",
              "  </div>\n",
              "  "
            ]
          },
          "metadata": {},
          "execution_count": 10
        }
      ],
      "source": [
        "df.corr()"
      ]
    },
    {
      "cell_type": "markdown",
      "metadata": {
        "id": "BqtsOWwOWjJi"
      },
      "source": [
        "\n",
        "### Data Cleaning \n",
        ">We need to use something like \"mean\" to replace the null numerical values and make accurate prediction, and for the string values we can delete or drop them\n",
        "\n",
        ">But there is no null numerical values so we'll just drop the string values"
      ]
    },
    {
      "cell_type": "code",
      "execution_count": 11,
      "metadata": {
        "id": "avYIcz3KWjJi"
      },
      "outputs": [],
      "source": [
        "df.dropna(inplace=True)"
      ]
    },
    {
      "cell_type": "code",
      "execution_count": 12,
      "metadata": {
        "colab": {
          "base_uri": "https://localhost:8080/"
        },
        "id": "fqhHjcpfWjJj",
        "outputId": "89378a9e-166d-456e-f6f5-8ec8cc75a758"
      },
      "outputs": [
        {
          "output_type": "stream",
          "name": "stdout",
          "text": [
            "<class 'pandas.core.frame.DataFrame'>\n",
            "Int64Index: 8667 entries, 0 to 10865\n",
            "Data columns (total 16 columns):\n",
            " #   Column                Non-Null Count  Dtype  \n",
            "---  ------                --------------  -----  \n",
            " 0   popularity            8667 non-null   float64\n",
            " 1   budget                8667 non-null   int64  \n",
            " 2   revenue               8667 non-null   int64  \n",
            " 3   original_title        8667 non-null   object \n",
            " 4   cast                  8667 non-null   object \n",
            " 5   director              8667 non-null   object \n",
            " 6   keywords              8667 non-null   object \n",
            " 7   runtime               8667 non-null   int64  \n",
            " 8   genres                8667 non-null   object \n",
            " 9   production_companies  8667 non-null   object \n",
            " 10  release_date          8667 non-null   object \n",
            " 11  vote_count            8667 non-null   int64  \n",
            " 12  vote_average          8667 non-null   float64\n",
            " 13  release_year          8667 non-null   int64  \n",
            " 14  budget_adj            8667 non-null   float64\n",
            " 15  revenue_adj           8667 non-null   float64\n",
            "dtypes: float64(4), int64(5), object(7)\n",
            "memory usage: 1.1+ MB\n"
          ]
        }
      ],
      "source": [
        "df.info()"
      ]
    },
    {
      "cell_type": "markdown",
      "metadata": {
        "id": "bzLOmiKcWjJj"
      },
      "source": [
        "<a id='eda'></a>\n",
        "## Exploratory Data Analysis\n",
        "\n",
        "### Research Question 1\n",
        "\n",
        "### Does a higher Popularity means higher Revenue?\n",
        ">To answer this question we can make 2 variables for movies that have high and low popularity and compare the mean of revenue in each of them."
      ]
    },
    {
      "cell_type": "code",
      "execution_count": 13,
      "metadata": {
        "id": "oO2w2e5CWjJk"
      },
      "outputs": [],
      "source": [
        "m=df.popularity.mean()\n",
        "low_pop=df.query('popularity<{}'.format(m))\n",
        "high_pop=df.query('popularity>={}'.format(m))"
      ]
    },
    {
      "cell_type": "code",
      "execution_count": 14,
      "metadata": {
        "colab": {
          "base_uri": "https://localhost:8080/"
        },
        "id": "03FaWzOXWjJk",
        "outputId": "4cabcac2-a715-4242-c6d1-cb502c54d4b8"
      },
      "outputs": [
        {
          "output_type": "execute_result",
          "data": {
            "text/plain": [
              "11596611.356805984"
            ]
          },
          "metadata": {},
          "execution_count": 14
        }
      ],
      "source": [
        "low_pop.revenue.mean()"
      ]
    },
    {
      "cell_type": "code",
      "execution_count": 15,
      "metadata": {
        "colab": {
          "base_uri": "https://localhost:8080/"
        },
        "id": "m2MELD_TWjJl",
        "outputId": "56ff9cfc-ca60-4ce4-e7fe-55058fefb902"
      },
      "outputs": [
        {
          "output_type": "execute_result",
          "data": {
            "text/plain": [
              "141176358.1799047"
            ]
          },
          "metadata": {},
          "execution_count": 15
        }
      ],
      "source": [
        "high_pop.revenue.mean()"
      ]
    },
    {
      "cell_type": "markdown",
      "metadata": {
        "id": "W68YU6J1WjJl"
      },
      "source": [
        "Function for plot characteristics to avoid repetition:"
      ]
    },
    {
      "cell_type": "code",
      "execution_count": 16,
      "metadata": {
        "id": "RndZdjG2WjJl"
      },
      "outputs": [],
      "source": [
        "def plot_characteristics(figsize_x, figsize_y, plot_title, title_size, plot_xlabel, plot_ylabel, xlabel_and_ylabel_size):\n",
        "    plt.subplots(figsize=(figsize_x,figsize_y))\n",
        "    plt.title(plot_title, fontsize=title_size)\n",
        "    plt.xlabel(plot_xlabel, fontsize=xlabel_and_ylabel_size)\n",
        "    plt.ylabel(plot_ylabel, fontsize=xlabel_and_ylabel_size)"
      ]
    },
    {
      "cell_type": "markdown",
      "metadata": {
        "id": "Y8d-muvMWjJm"
      },
      "source": [
        "Overall it seems that more popular movies have higher revenue."
      ]
    },
    {
      "cell_type": "code",
      "execution_count": 17,
      "metadata": {
        "colab": {
          "base_uri": "https://localhost:8080/",
          "height": 464
        },
        "id": "kSkjOwx5WjJm",
        "outputId": "6ef76d16-a0ab-409b-9268-09f23ec5e01b"
      },
      "outputs": [
        {
          "output_type": "display_data",
          "data": {
            "text/plain": [
              "<Figure size 720x504 with 1 Axes>"
            ],
            "image/png": "[encoded data removed]"
          },
          "metadata": {}
        }
      ],
      "source": [
        "plot_characteristics(10, 7, 'Average Revenue by Popularity Level',13, 'Popularity', 'Average Revenue',12)\n",
        "plt.bar([1,2],[low_pop.revenue.mean(),high_pop.revenue.mean()],tick_label=['Low Popularity','High Popularity']);"
      ]
    },
    {
      "cell_type": "markdown",
      "metadata": {
        "id": "tobEuh20WjJn"
      },
      "source": [
        "According to the scatter plot below there is a positive correlation between popularity and revenue."
      ]
    },
    {
      "cell_type": "code",
      "execution_count": 18,
      "metadata": {
        "colab": {
          "base_uri": "https://localhost:8080/",
          "height": 464
        },
        "id": "fPBTlFGBWjJn",
        "outputId": "355fc59c-b9e9-417a-c8fb-4b94dac4872f"
      },
      "outputs": [
        {
          "output_type": "display_data",
          "data": {
            "text/plain": [
              "<Figure size 720x504 with 1 Axes>"
            ],
            "image/png": "[encoded data removed]"
          },
          "metadata": {}
        }
      ],
      "source": [
        "plot_characteristics(10, 7, 'Revenue VS Popularity',13, 'Popularity', 'Revenue',12)\n",
        "plt.scatter(x=df.popularity,y=df.revenue);"
      ]
    },
    {
      "cell_type": "markdown",
      "metadata": {
        "id": "14YLwkUFWjJo"
      },
      "source": [
        "### Research Question 2  \n",
        "### Is there a relation between Release Year and Revenue?"
      ]
    },
    {
      "cell_type": "code",
      "execution_count": 19,
      "metadata": {
        "colab": {
          "base_uri": "https://localhost:8080/",
          "height": 464
        },
        "id": "C7I26jnTWjJo",
        "outputId": "bd62b8c5-0986-4276-9189-c9f71c40e368"
      },
      "outputs": [
        {
          "output_type": "display_data",
          "data": {
            "text/plain": [
              "<Figure size 720x504 with 1 Axes>"
            ],
            "image/png": "[encoded data removed]"
          },
          "metadata": {}
        }
      ],
      "source": [
        "plot_characteristics(10, 7, 'Revenue each Release Year',13, 'Release Year', 'Revenue',12)\n",
        "plt.scatter(df.release_year,df.revenue);"
      ]
    },
    {
      "cell_type": "markdown",
      "metadata": {
        "id": "IMIEROuwWjJp"
      },
      "source": [
        "To make it more clear we can get the mean of Revenue each Release Year and graph it in a line plot. Overall the new movies have higher Revenue."
      ]
    },
    {
      "cell_type": "code",
      "execution_count": 20,
      "metadata": {
        "colab": {
          "base_uri": "https://localhost:8080/",
          "height": 464
        },
        "id": "yZnyjE3HWjJp",
        "outputId": "69f70f82-7537-4e0a-edb0-fea3746871c5"
      },
      "outputs": [
        {
          "output_type": "display_data",
          "data": {
            "text/plain": [
              "<Figure size 720x504 with 1 Axes>"
            ],
            "image/png": "[encoded data removed]"
          },
          "metadata": {}
        }
      ],
      "source": [
        "plot_characteristics(10, 7, 'Average Revenue each Release Year',13, 'Release Year', 'Average Revenue',12)\n",
        "year_and_revenue_groupby=df.groupby(df.release_year, as_index=False)['revenue'].mean()\n",
        "plt.scatter(x=year_and_revenue_groupby.release_year, y=year_and_revenue_groupby.revenue);"
      ]
    },
    {
      "cell_type": "markdown",
      "metadata": {
        "id": "s_qtFJS7WjJp"
      },
      "source": [
        "### Research Question 3\n",
        "\n",
        "### Is there a relation between Budget and Revenue?\n",
        "\n",
        ">According to the scatter plot below, the movies with high Budget are most likely getting higher Revenue."
      ]
    },
    {
      "cell_type": "code",
      "execution_count": 21,
      "metadata": {
        "colab": {
          "base_uri": "https://localhost:8080/",
          "height": 461
        },
        "id": "FtullJ21WjJq",
        "outputId": "e4db7967-0814-4326-91c9-74c6e998fecd"
      },
      "outputs": [
        {
          "output_type": "display_data",
          "data": {
            "text/plain": [
              "<Figure size 720x504 with 1 Axes>"
            ],
            "image/png": "[encoded data removed]"
          },
          "metadata": {}
        }
      ],
      "source": [
        "plot_characteristics(10, 7, 'Revenue VS Budget',12, 'Revenue', 'Budget',11)\n",
        "plt.scatter(x=df.revenue,y=df.budget);"
      ]
    },
    {
      "cell_type": "markdown",
      "metadata": {
        "id": "LsYwKvlIWjJr"
      },
      "source": [
        "### Research Question 4\n",
        "\n",
        "### Is there a relation between Rating and Revenue?\n",
        "> As we can see from the scatter plot below, there is no relation between Rating and Revenue."
      ]
    },
    {
      "cell_type": "code",
      "execution_count": 22,
      "metadata": {
        "colab": {
          "base_uri": "https://localhost:8080/",
          "height": 461
        },
        "id": "2R52rIBOWjJs",
        "outputId": "e0394629-4000-4f97-ce20-257599084ad4"
      },
      "outputs": [
        {
          "output_type": "display_data",
          "data": {
            "text/plain": [
              "<Figure size 720x504 with 1 Axes>"
            ],
            "image/png": "[encoded data removed]"
          },
          "metadata": {}
        }
      ],
      "source": [
        "plot_characteristics(10, 7, 'Rating VS Revenue', 12, 'Vote Average', 'Revenue',11)\n",
        "plt.scatter(x=df.vote_average,y=df.revenue);"
      ]
    },
    {
      "cell_type": "markdown",
      "metadata": {
        "id": "1j5AxlhzWjJs"
      },
      "source": [
        "### Research Question 5\n",
        "### Is there a correlation between Popularity and Budget?\n",
        "> There is a strong correlation between Popularity and Budget."
      ]
    },
    {
      "cell_type": "code",
      "execution_count": 23,
      "metadata": {
        "scrolled": true,
        "colab": {
          "base_uri": "https://localhost:8080/",
          "height": 352
        },
        "id": "c3h7VEJhWjJs",
        "outputId": "38dc0a89-f444-4fa3-d913-a5e30271a710"
      },
      "outputs": [
        {
          "output_type": "display_data",
          "data": {
            "text/plain": [
              "<Figure size 720x360 with 1 Axes>"
            ],
            "image/png": "[encoded data removed]"
          },
          "metadata": {}
        }
      ],
      "source": [
        "plot_characteristics(10,5,'Popularity VS Budget',12,'Popularity','Budget',11)\n",
        "plt.scatter(x=df.popularity, y=df.budget);"
      ]
    },
    {
      "cell_type": "markdown",
      "metadata": {
        "id": "pfhXH3ajWjJt"
      },
      "source": [
        "### Research Question 6\n",
        "### What is the average runtime in profitable movies?\n",
        "> The movies that have a revenue of around 40 million dollars or more are profitable.\n",
        "\n",
        "> The average runtime for profitable movies is 113 minute."
      ]
    },
    {
      "cell_type": "code",
      "execution_count": 24,
      "metadata": {
        "colab": {
          "base_uri": "https://localhost:8080/"
        },
        "id": "u1KedpWTWjJt",
        "outputId": "45c45d3e-8938-40f4-8211-8daba77bada1"
      },
      "outputs": [
        {
          "output_type": "execute_result",
          "data": {
            "text/plain": [
              "49243063.704857506"
            ]
          },
          "metadata": {},
          "execution_count": 24
        }
      ],
      "source": [
        "revenue_mean=df.revenue.mean()\n",
        "profitable_movies_df=df.query('revenue>={}'.format(revenue_mean))\n",
        "revenue_mean"
      ]
    },
    {
      "cell_type": "code",
      "execution_count": 25,
      "metadata": {
        "colab": {
          "base_uri": "https://localhost:8080/"
        },
        "id": "V6DC1p4aWjJt",
        "outputId": "ef17991f-1705-431c-a2a9-4a981a245693"
      },
      "outputs": [
        {
          "output_type": "execute_result",
          "data": {
            "text/plain": [
              "113.08752620545073"
            ]
          },
          "metadata": {},
          "execution_count": 25
        }
      ],
      "source": [
        "profitable_movies_df.runtime.mean()"
      ]
    },
    {
      "cell_type": "code",
      "execution_count": 26,
      "metadata": {
        "colab": {
          "base_uri": "https://localhost:8080/",
          "height": 574
        },
        "id": "sG-gpdhUWjJu",
        "outputId": "9bd6f3a9-51ae-41ae-e088-f4fd8235b62a"
      },
      "outputs": [
        {
          "output_type": "display_data",
          "data": {
            "text/plain": [
              "<Figure size 1080x648 with 1 Axes>"
            ],
            "image/png": "[encoded data removed]"
          },
          "metadata": {}
        }
      ],
      "source": [
        "plot_characteristics(15, 9, \"Runtime in profitable movies\",14, \"Runtime\",\"Count\",13)\n",
        "plt.hist(x=profitable_movies_df.runtime, bins=70);"
      ]
    },
    {
      "cell_type": "markdown",
      "metadata": {
        "id": "QoWPYR5hWjJu"
      },
      "source": [
        "### Research Question 7\n",
        "### What is the average Budget for profitable movies?\n",
        "> The average budget for profitable movies is around 52 million dollars."
      ]
    },
    {
      "cell_type": "code",
      "execution_count": 27,
      "metadata": {
        "colab": {
          "base_uri": "https://localhost:8080/"
        },
        "id": "P4iaWsabWjJv",
        "outputId": "b1c5dde8-5981-45ee-a415-389a933852f4"
      },
      "outputs": [
        {
          "output_type": "execute_result",
          "data": {
            "text/plain": [
              "55879040.95387841"
            ]
          },
          "metadata": {},
          "execution_count": 27
        }
      ],
      "source": [
        "profitable_movies_df.budget.mean()"
      ]
    },
    {
      "cell_type": "code",
      "execution_count": 28,
      "metadata": {
        "colab": {
          "base_uri": "https://localhost:8080/",
          "height": 574
        },
        "id": "Awy7AM-8WjJv",
        "outputId": "709682f3-538d-457a-dcbd-cbddaab0733a"
      },
      "outputs": [
        {
          "output_type": "display_data",
          "data": {
            "text/plain": [
              "<Figure size 1080x648 with 1 Axes>"
            ],
            "image/png": "[encoded data removed]"
          },
          "metadata": {}
        }
      ],
      "source": [
        "plot_characteristics(15, 9, \"Budet in profitable movies\", 14, \"Budget\",\"Count\", 13)\n",
        "plt.hist(x=profitable_movies_df.budget, bins=50);"
      ]
    },
    {
      "cell_type": "markdown",
      "metadata": {
        "id": "0LNAT9FtWjJv"
      },
      "source": [
        "### Research Question 8\n",
        "### What are the most frequent casts?\n",
        "> The most frequent casts in profitable movies are Bruce Willis, Tom Cruise, Tom Hanks, Robert De Niro and Brad Pitt       "
      ]
    },
    {
      "cell_type": "code",
      "execution_count": 29,
      "metadata": {
        "id": "H37JtySjWjJw"
      },
      "outputs": [],
      "source": [
        "# Function to get the most frequent elements of a column from the profitable_movies_df\n",
        "def frequency_in_profitable_movies(column):\n",
        "    data = pd.Series(profitable_movies_df[column]).str.cat(sep='|')\n",
        "    data = pd.Series(data.split('|'))\n",
        "    return data.value_counts(ascending=False).astype(int)"
      ]
    },
    {
      "cell_type": "code",
      "execution_count": 30,
      "metadata": {
        "colab": {
          "base_uri": "https://localhost:8080/"
        },
        "id": "IPviqFZuWjJw",
        "outputId": "cd57f80e-d5b6-4b91-92da-5b9884f5affe"
      },
      "outputs": [
        {
          "output_type": "execute_result",
          "data": {
            "text/plain": [
              "Bruce Willis      32\n",
              "Tom Cruise        30\n",
              "Tom Hanks         29\n",
              "Robert De Niro    28\n",
              "Brad Pitt         27\n",
              "dtype: int64"
            ]
          },
          "metadata": {},
          "execution_count": 30
        }
      ],
      "source": [
        "frequency_in_profitable_movies('cast').head()"
      ]
    },
    {
      "cell_type": "markdown",
      "metadata": {
        "id": "XQS2uxioWjJw"
      },
      "source": [
        "### Research Question 9\n",
        "### What are the most frequent directors?\n",
        "> The most frequent directors in profitable movies are Steven Spielberg, Clint Eastwood, Ron Howard, Tim Burton and Ridley Scott"
      ]
    },
    {
      "cell_type": "code",
      "execution_count": 31,
      "metadata": {
        "colab": {
          "base_uri": "https://localhost:8080/"
        },
        "id": "vbLvpYIJWjJw",
        "outputId": "ad723b22-c07f-439c-f4e7-c74acd5a2d51"
      },
      "outputs": [
        {
          "output_type": "execute_result",
          "data": {
            "text/plain": [
              "Steven Spielberg    25\n",
              "Clint Eastwood      17\n",
              "Ron Howard          16\n",
              "Tim Burton          14\n",
              "Robert Zemeckis     13\n",
              "dtype: int64"
            ]
          },
          "metadata": {},
          "execution_count": 31
        }
      ],
      "source": [
        "frequency_in_profitable_movies('director').head()"
      ]
    },
    {
      "cell_type": "markdown",
      "metadata": {
        "id": "pxoLlsFnWjJx"
      },
      "source": [
        "### Research Question 10\n",
        "### What are the most frequent genres?\n",
        "> The most frequent genres in profitable movies are Drama, Comedy, Action, Thriller and Adventure    "
      ]
    },
    {
      "cell_type": "code",
      "execution_count": 32,
      "metadata": {
        "colab": {
          "base_uri": "https://localhost:8080/"
        },
        "id": "vWk5SpZiWjJx",
        "outputId": "4afc36de-af5d-4e23-d683-fd920a7b26b9"
      },
      "outputs": [
        {
          "output_type": "execute_result",
          "data": {
            "text/plain": [
              "Drama        728\n",
              "Comedy       719\n",
              "Action       654\n",
              "Thriller     577\n",
              "Adventure    510\n",
              "dtype: int64"
            ]
          },
          "metadata": {},
          "execution_count": 32
        }
      ],
      "source": [
        "frequency_in_profitable_movies('genres').head()"
      ]
    },
    {
      "cell_type": "code",
      "execution_count": 33,
      "metadata": {
        "colab": {
          "base_uri": "https://localhost:8080/",
          "height": 750
        },
        "id": "HzA-6ZYvWjJx",
        "outputId": "631f54df-96e7-4c24-a8a4-6da6a8337a78"
      },
      "outputs": [
        {
          "output_type": "display_data",
          "data": {
            "text/plain": [
              "<Figure size 1296x864 with 1 Axes>"
            ],
            "image/png": "[encoded data removed]"
          },
          "metadata": {}
        }
      ],
      "source": [
        "plot_characteristics(18, 12, \"Genres frequency\", 18, \"Count\",\"Genres\", 17)\n",
        "frequency_in_profitable_movies('genres').sort_values(ascending=True).plot.barh(fontsize=15);"
      ]
    },
    {
      "cell_type": "markdown",
      "metadata": {
        "id": "4LxaczvsWjJy"
      },
      "source": [
        "### Research Question 11\n",
        "### What are the most frequent keywords?\n",
        "> The most frequent keywords in profitable movies are \"based on novel\", \"duringcreditsstinger\", \"dystopia\", \"new york\" and \"london\""
      ]
    },
    {
      "cell_type": "code",
      "execution_count": 34,
      "metadata": {
        "colab": {
          "base_uri": "https://localhost:8080/"
        },
        "id": "PuvmEnudWjJy",
        "outputId": "25cbd198-f685-42ed-fa77-212f2a5a6089"
      },
      "outputs": [
        {
          "output_type": "execute_result",
          "data": {
            "text/plain": [
              "based on novel          90\n",
              "duringcreditsstinger    61\n",
              "dystopia                54\n",
              "new york                44\n",
              "london                  43\n",
              "dtype: int64"
            ]
          },
          "metadata": {},
          "execution_count": 34
        }
      ],
      "source": [
        "frequency_in_profitable_movies('keywords').head()"
      ]
    },
    {
      "cell_type": "markdown",
      "metadata": {
        "id": "8c9E47EfWjJz"
      },
      "source": [
        "### Research Question 12\n",
        "### What are the average Revenue for profitable movies?\n",
        "> The average revenue for profitable movies is around 202 million dollars."
      ]
    },
    {
      "cell_type": "code",
      "execution_count": 35,
      "metadata": {
        "colab": {
          "base_uri": "https://localhost:8080/"
        },
        "id": "tCnmb-7PWjJz",
        "outputId": "baa1055c-99a1-4fec-c628-093339121c87"
      },
      "outputs": [
        {
          "output_type": "execute_result",
          "data": {
            "text/plain": [
              "201607514.1100629"
            ]
          },
          "metadata": {},
          "execution_count": 35
        }
      ],
      "source": [
        "profitable_movies_df.revenue.mean()"
      ]
    },
    {
      "cell_type": "code",
      "execution_count": 36,
      "metadata": {
        "colab": {
          "base_uri": "https://localhost:8080/",
          "height": 574
        },
        "id": "Mf-S9vYOWjJz",
        "outputId": "dafc37ec-5f9a-4208-d7fa-7799f7c9e41b"
      },
      "outputs": [
        {
          "output_type": "display_data",
          "data": {
            "text/plain": [
              "<Figure size 1080x648 with 1 Axes>"
            ],
            "image/png": "[encoded data removed]"
          },
          "metadata": {}
        }
      ],
      "source": [
        "plot_characteristics(15, 9, \"Revenue in profitable movies\",14, \"Revenue\",\"Count\",13)\n",
        "plt.hist(x=profitable_movies_df.revenue, bins=100);"
      ]
    },
    {
      "cell_type": "markdown",
      "metadata": {
        "id": "CMLsJy02WjJz"
      },
      "source": [
        "<a id='conclusions'></a>\n",
        "## Conclusions\n",
        "\n",
        "- More popular movies have higher Revenue.\n",
        "\n",
        "- New movies have higher Revenue.\n",
        "\n",
        "- The movies with high Budget are most likely getting higher Revenue.\n",
        "\n",
        "- There is no relation between Rating and Revenue.\n",
        "\n",
        "- A movies with higher Budget most likely get higher Popularity.\n",
        "\n",
        "- The successful criteria for a movie:\n",
        "    - Average runtime must be 113 minutes.\n",
        "    - Average budget must be around 52 million dollars.\n",
        "    - At least one of those must be in the cast: Bruce Willis - Tom Cruise - Tom Hanks - Robert De Niro - Brad Pitt.\n",
        "    - One of those must be the director: Steven Spielberg - Clint Eastwood - Ron Howard - Tim Burton - Ridley Scott.\n",
        "    - The genres must contain at least one of those: Drama - Comedy - Action - Thriller - Adventure.\n",
        "    - The movie must contain at least one of those keywords: \"based on novel\" - \"duringcreditsstinger\" - \"dystopia\" - \"new york\" - \"london\"\n",
        "- By doing all of the above the movie most likely will be profitable and can earn around 202 million dollars.\n",
        "    "
      ]
    },
    {
      "cell_type": "markdown",
      "metadata": {
        "id": "aYFjZJWeWjJ0"
      },
      "source": [
        "### Limitation\n",
        "\n",
        "- Missing values in the data affect the visualization results slightly."
      ]
    },
    {
      "cell_type": "markdown",
      "metadata": {
        "id": "IX0WiDNAWjJ0"
      },
      "source": [
        "<a id='Linear_Regression_model'></a>\n",
        "## Linear Regression model\n",
        "\n",
        "> A model to predict the revenue based on multiple variables."
      ]
    },
    {
      "cell_type": "code",
      "execution_count": 83,
      "metadata": {
        "id": "6zKdrQ37WjJ0"
      },
      "outputs": [],
      "source": [
        "from sklearn.linear_model import SGDRegressor\n",
        "from sklearn.preprocessing import StandardScaler\n",
        "from sklearn.model_selection import train_test_split\n",
        "from tensorflow.keras.layers import Normalization"
      ]
    },
    {
      "cell_type": "code",
      "execution_count": 84,
      "metadata": {
        "id": "9c5rHCSMWjJ1"
      },
      "outputs": [],
      "source": [
        "X = df[['popularity','budget','vote_average','release_year','runtime','budget_adj','vote_count']]\n",
        "X = np.array(X) # For the plot.\n",
        "\n",
        "y = df['revenue']\n",
        "y = np.array(y)\n",
        "\n",
        "X_features = ['popularity','budget','vote_average','release_year','runtime','budget_adj','vote_count']"
      ]
    },
    {
      "cell_type": "markdown",
      "source": [
        "Splitting the data into training and test sets. Test set takes 30% of the data."
      ],
      "metadata": {
        "id": "76PzzI8qhaXe"
      }
    },
    {
      "cell_type": "code",
      "source": [
        "X_train, X_test, y_train, y_test = train_test_split(X, y, test_size=0.3)"
      ],
      "metadata": {
        "id": "j4ejuJYvg4Gc"
      },
      "execution_count": 85,
      "outputs": []
    },
    {
      "cell_type": "code",
      "execution_count": 86,
      "metadata": {
        "id": "ZjPJkVt-WjJ1"
      },
      "outputs": [],
      "source": [
        "# Normalization for a faster gradient descent\n",
        "norm = Normalization()\n",
        "norm.adapt(X_train) # Learning mean and variance \n",
        "Xn_train = norm(X_train).numpy() # converting to numpy array\n",
        "Xn_test = norm(X_test).numpy()"
      ]
    },
    {
      "cell_type": "code",
      "execution_count": 98,
      "metadata": {
        "colab": {
          "base_uri": "https://localhost:8080/"
        },
        "id": "QDicZzjoWjJ2",
        "outputId": "cd3eba81-b811-4bea-b4e3-1c374c9ba385"
      },
      "outputs": [
        {
          "output_type": "execute_result",
          "data": {
            "text/plain": [
              "SGDRegressor()"
            ]
          },
          "metadata": {},
          "execution_count": 98
        }
      ],
      "source": [
        "sgdr=SGDRegressor()\n",
        "sgdr.fit(Xn_train, y_train)"
      ]
    },
    {
      "cell_type": "code",
      "source": [
        "print(f\"R-Squared score: {sgdr.score(Xn_test, y_test)}\")"
      ],
      "metadata": {
        "colab": {
          "base_uri": "https://localhost:8080/"
        },
        "id": "s9tRlSIFcE_v",
        "outputId": "bd819e0a-7a50-4c72-b721-1e2e34fd05a3"
      },
      "execution_count": 99,
      "outputs": [
        {
          "output_type": "stream",
          "name": "stdout",
          "text": [
            "R-Squared score: 0.7146758158791395\n"
          ]
        }
      ]
    },
    {
      "cell_type": "code",
      "execution_count": 93,
      "metadata": {
        "id": "0wHDOpUJWjJ2"
      },
      "outputs": [],
      "source": [
        "y_pred=sgdr.predict(Xn_test)"
      ]
    },
    {
      "cell_type": "code",
      "execution_count": 94,
      "metadata": {
        "colab": {
          "base_uri": "https://localhost:8080/",
          "height": 375
        },
        "id": "zmWFxZa6WjJ2",
        "outputId": "796bc350-9cdb-45ca-d988-7705f6a7e8f8"
      },
      "outputs": [
        {
          "output_type": "display_data",
          "data": {
            "text/plain": [
              "<Figure size 1440x360 with 7 Axes>"
            ],
            "image/png": "[encoded data removed]"
          },
          "metadata": {}
        }
      ],
      "source": [
        "fig,ax=plt.subplots(1,7,figsize=(20,5),sharey=True)\n",
        "for i in range(len(ax)):\n",
        "    ax[i].scatter(X_test[:,i],y_test, label = 'target')\n",
        "    ax[i].set_xlabel(X_features[i])\n",
        "    ax[i].scatter(X_test[:,i], y_pred, color='orange', label = 'predict')\n",
        "ax[0].set_ylabel(\"Revenue\"); ax[0].legend();\n",
        "fig.suptitle(\"target versus prediction in the test set using normalized model\");"
      ]
    }
  ],
  "metadata": {
    "kernelspec": {
      "display_name": "Python 3 (ipykernel)",
      "language": "python",
      "name": "python3"
    },
    "language_info": {
      "codemirror_mode": {
        "name": "ipython",
        "version": 3
      },
      "file_extension": ".py",
      "mimetype": "text/x-python",
      "name": "python",
      "nbconvert_exporter": "python",
      "pygments_lexer": "ipython3",
      "version": "3.10.4"
    },
    "colab": {
      "name": "investigate-a-dataset-template.ipynb",
      "provenance": []
    }
  },
  "nbformat": 4,
  "nbformat_minor": 0
}